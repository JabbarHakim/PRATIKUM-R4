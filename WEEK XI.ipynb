{
  "nbformat": 4,
  "nbformat_minor": 0,
  "metadata": {
    "colab": {
      "provenance": []
    },
    "kernelspec": {
      "name": "python3",
      "display_name": "Python 3"
    },
    "language_info": {
      "name": "python"
    }
  },
  "cells": [
    {
      "cell_type": "code",
      "execution_count": null,
      "metadata": {
        "id": "mPFns0yygo_g"
      },
      "outputs": [],
      "source": [
        "pi = 3.14\n",
        "\n",
        "def LuasLingkaran():\n",
        "  jari = float(input(\"Masukkan Jari - Jari yang diinginkan = \"))\n",
        "  return pi * jari * jari\n",
        "\n",
        "def LuasPersegi():\n",
        "  sisi = float(input(\"Masukkan Sisi yang diinginkan : \"))\n",
        "  return sisi * sisi\n",
        "\n",
        "def LuasPersegiPanjang():\n",
        "  panjang = float(input(\"Masukkan Panjang yang diinginkan : \"))\n",
        "  lebar = float(input(\"Masukkan Lebar yang diinginkan : \"))\n",
        "  return panjang * lebar\n",
        "\n"
      ]
    },
    {
      "cell_type": "code",
      "source": [
        "import pler\n",
        "\n",
        "print(\"Luas Lingkaran = \", pler.LuasLingkaran())\n",
        "print(\"Luas Persegi = \", pler.LuasPersegi())\n",
        "print(\"Luas Persegi Panjang = \", pler.LuasPersegiPanjang())"
      ],
      "metadata": {
        "colab": {
          "base_uri": "https://localhost:8080/"
        },
        "id": "NhFfM3NPgrEc",
        "outputId": "2ec295a6-6a89-4d93-f49a-f40730627872"
      },
      "execution_count": null,
      "outputs": [
        {
          "output_type": "stream",
          "name": "stdout",
          "text": [
            "Masukkan Jari - Jari yang diinginkan = 7\n",
            "Luas Lingkaran =  153.86\n",
            "Masukkan Sisi yang diinginkan : 5\n",
            "Luas Persegi =  25.0\n",
            "Masukkan Panjang yang diinginkan : 10\n",
            "Masukkan Lebar yang diinginkan : 2\n",
            "Luas Persegi Panjang =  20.0\n"
          ]
        }
      ]
    },
    {
      "cell_type": "code",
      "source": [
        "import math\n",
        "\n",
        "numbers = float(input(\"Masukkan Angka = \"))\n",
        "akarkuadrat = math.sqrt(numbers)\n",
        "print(f\"Akar Kuadrat dari {numbers} = {akarkuadrat}\")\n",
        "\n",
        "decimal = float(input(\"Masukkan Angka desimal = \"))\n",
        "pembulatanatas = math.ceil(decimal)\n",
        "print(f\"Pembulatan Desimal {decimal} = {pembulatanatas}\")\n",
        "\n",
        "numbersfactorial = int(input(\"Masukkan Angka faktorial = \"))\n",
        "factorial = math.factorial(numbersfactorial)\n",
        "print(f\"Factorial dari {numbersfactorial} = {factorial}\")\n",
        "\n",
        "numberslog = float(input(\"Masukkan Angka Log = \"))\n",
        "logaritma = math.log10(numberslog)\n",
        "print(f\"Logaritma 10 adalah {numberslog} = {logaritma}\")\n",
        "\n",
        "derajat = float(input(\"Masukkan sudut derajat = \"))\n",
        "radian = math.radians(derajat)\n",
        "print(f\"Konversi {derajat} ke dalam radians {radian}\")"
      ],
      "metadata": {
        "colab": {
          "base_uri": "https://localhost:8080/"
        },
        "id": "PdrsuBgkg7Qk",
        "outputId": "eeaf24b9-36d3-41b3-f292-f13aa1edc84a"
      },
      "execution_count": null,
      "outputs": [
        {
          "output_type": "stream",
          "name": "stdout",
          "text": [
            "Masukkan Angka = 5\n",
            "Akar Kuadrat dari 5.0 = 2.23606797749979\n",
            "Masukkan Angka desimal = 5\n",
            "Pembulatan Desimal 5.0 = 5\n",
            "Masukkan Angka faktorial = 5\n",
            "Factorial dari 5 = 120\n",
            "Masukkan Angka Log = 5\n",
            "Logaritma 10 adalah 5.0 = 0.6989700043360189\n",
            "Masukkan sudut derajat = 5\n",
            "Konversi 5.0 ke dalam radians 0.08726646259971647\n"
          ]
        }
      ]
    },
    {
      "cell_type": "code",
      "source": [],
      "metadata": {
        "id": "SBpvgPQJrpbI"
      },
      "execution_count": null,
      "outputs": []
    }
  ]
}