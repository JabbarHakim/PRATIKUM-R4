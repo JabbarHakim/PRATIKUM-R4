{
  "nbformat": 4,
  "nbformat_minor": 0,
  "metadata": {
    "colab": {
      "provenance": []
    },
    "kernelspec": {
      "name": "python3",
      "display_name": "Python 3"
    },
    "language_info": {
      "name": "python"
    }
  },
  "cells": [
    {
      "cell_type": "markdown",
      "source": [
        "# **WEEK 2**"
      ],
      "metadata": {
        "id": "yRn_0cW-kv9B"
      }
    },
    {
      "cell_type": "code",
      "source": [
        "# String\n",
        "\n",
        "#print(\"Hello, Pythin 102!\")\n",
        "#print(\"Hello, Python 101!\")\n",
        "\n",
        "\"Hello Python 102!\"\n",
        "#\"Hello, Python 101!\""
      ],
      "metadata": {
        "colab": {
          "base_uri": "https://localhost:8080/",
          "height": 35
        },
        "id": "hf3yxnSTndap",
        "outputId": "0575bfb6-1fb2-442b-cb33-8f239cc55ab4"
      },
      "execution_count": 8,
      "outputs": [
        {
          "output_type": "execute_result",
          "data": {
            "text/plain": [
              "'Hello Python 102!'"
            ],
            "application/vnd.google.colaboratory.intrinsic+json": {
              "type": "string"
            }
          },
          "metadata": {},
          "execution_count": 8
        }
      ]
    },
    {
      "cell_type": "code",
      "execution_count": 1,
      "metadata": {
        "colab": {
          "base_uri": "https://localhost:8080/"
        },
        "id": "CenafrL7klvx",
        "outputId": "c2b70da7-ca07-472a-ddb4-52d5b5a73caf"
      },
      "outputs": [
        {
          "output_type": "execute_result",
          "data": {
            "text/plain": [
              "11"
            ]
          },
          "metadata": {},
          "execution_count": 1
        }
      ],
      "source": [
        "# Interger\n",
        "\n",
        "11"
      ]
    },
    {
      "cell_type": "code",
      "source": [
        "# Float\n",
        "\n",
        "2.14"
      ],
      "metadata": {
        "colab": {
          "base_uri": "https://localhost:8080/"
        },
        "id": "I5OetENjk8XY",
        "outputId": "051ea893-b6a7-476d-f952-19bacfe91572"
      },
      "execution_count": 3,
      "outputs": [
        {
          "output_type": "execute_result",
          "data": {
            "text/plain": [
              "2.14"
            ]
          },
          "metadata": {},
          "execution_count": 3
        }
      ]
    },
    {
      "cell_type": "code",
      "source": [
        "# String\n",
        "\n",
        "#print(\"Hello, Pythin 102!\")\n",
        "#print(\"Hello, Python 101!\")\n",
        "\n",
        "\"Hello Python 102!\"\n",
        "#\"Hello, Python 101!\""
      ],
      "metadata": {
        "colab": {
          "base_uri": "https://localhost:8080/",
          "height": 35
        },
        "id": "GG_AzM4sI5-Z",
        "outputId": "616cbe96-5f86-429d-ceb1-5dcaaa0ac28d"
      },
      "execution_count": 4,
      "outputs": [
        {
          "output_type": "execute_result",
          "data": {
            "text/plain": [
              "'Hello Python 102!'"
            ],
            "application/vnd.google.colaboratory.intrinsic+json": {
              "type": "string"
            }
          },
          "metadata": {},
          "execution_count": 4
        }
      ]
    },
    {
      "cell_type": "code",
      "source": [
        "# Type of 12\n",
        "\n",
        "type(12)"
      ],
      "metadata": {
        "colab": {
          "base_uri": "https://localhost:8080/"
        },
        "id": "jabg7PKOJJYR",
        "outputId": "992b089c-4f7a-40a3-ea0d-7a0e38a02c5f"
      },
      "execution_count": 5,
      "outputs": [
        {
          "output_type": "execute_result",
          "data": {
            "text/plain": [
              "int"
            ]
          },
          "metadata": {},
          "execution_count": 5
        }
      ]
    },
    {
      "cell_type": "code",
      "source": [
        "# Type of 2.14\n",
        "\n",
        "type(2.14)"
      ],
      "metadata": {
        "colab": {
          "base_uri": "https://localhost:8080/"
        },
        "id": "QcaMhYixJiyx",
        "outputId": "c5f6711b-8407-4641-a887-77eac1a8cdd7"
      },
      "execution_count": null,
      "outputs": [
        {
          "output_type": "execute_result",
          "data": {
            "text/plain": [
              "float"
            ]
          },
          "metadata": {},
          "execution_count": 40
        }
      ]
    },
    {
      "cell_type": "code",
      "source": [
        "# Type of \"Hello, Python 101!\"\n",
        "\n",
        "type(\"Hello, Python 101!\")"
      ],
      "metadata": {
        "colab": {
          "base_uri": "https://localhost:8080/"
        },
        "id": "riY23veQJmtZ",
        "outputId": "2c933275-7661-45c8-b9d8-1341f7b3d346"
      },
      "execution_count": null,
      "outputs": [
        {
          "output_type": "execute_result",
          "data": {
            "text/plain": [
              "str"
            ]
          },
          "metadata": {},
          "execution_count": 41
        }
      ]
    },
    {
      "cell_type": "code",
      "source": [
        "# Write your code below. Dont't forget to press Shift+Enter to execute the cell\n",
        "type(12.0)"
      ],
      "metadata": {
        "colab": {
          "base_uri": "https://localhost:8080/"
        },
        "id": "XRDH8i0_JwC4",
        "outputId": "8f281c66-606f-456b-a5f7-ea767c886a72"
      },
      "execution_count": null,
      "outputs": [
        {
          "output_type": "execute_result",
          "data": {
            "text/plain": [
              "float"
            ]
          },
          "metadata": {},
          "execution_count": 42
        }
      ]
    },
    {
      "cell_type": "markdown",
      "source": [
        "# **INTEGERS**"
      ],
      "metadata": {
        "id": "NaxhCnkmlgPF"
      }
    },
    {
      "cell_type": "code",
      "source": [
        "# Print the type of -1\n",
        "\n",
        "type(-1)"
      ],
      "metadata": {
        "colab": {
          "base_uri": "https://localhost:8080/"
        },
        "id": "KoOWMjPrJ61I",
        "outputId": "c3d121cd-7746-4373-d1cf-cce841a9005c"
      },
      "execution_count": null,
      "outputs": [
        {
          "output_type": "execute_result",
          "data": {
            "text/plain": [
              "int"
            ]
          },
          "metadata": {},
          "execution_count": 43
        }
      ]
    },
    {
      "cell_type": "code",
      "source": [
        "type(-6)"
      ],
      "metadata": {
        "colab": {
          "base_uri": "https://localhost:8080/"
        },
        "id": "52Y9n76kKDjA",
        "outputId": "af6143b5-3ab3-4185-9c3a-90121bd79df4"
      },
      "execution_count": null,
      "outputs": [
        {
          "output_type": "execute_result",
          "data": {
            "text/plain": [
              "int"
            ]
          },
          "metadata": {},
          "execution_count": 44
        }
      ]
    },
    {
      "cell_type": "code",
      "source": [
        "# Print the type of 4\n",
        "\n",
        "type(4)"
      ],
      "metadata": {
        "colab": {
          "base_uri": "https://localhost:8080/"
        },
        "id": "9pO_tjkvKExA",
        "outputId": "a1491ae7-7744-4ec4-c578-a02a7d2dfe0c"
      },
      "execution_count": null,
      "outputs": [
        {
          "output_type": "execute_result",
          "data": {
            "text/plain": [
              "int"
            ]
          },
          "metadata": {},
          "execution_count": 45
        }
      ]
    },
    {
      "cell_type": "code",
      "source": [
        "# Print the type of 6\n",
        "\n",
        "type(6)"
      ],
      "metadata": {
        "colab": {
          "base_uri": "https://localhost:8080/"
        },
        "id": "nsvI08WkKI34",
        "outputId": "70b434d0-02ca-4ab2-c4df-72cfdb88880e"
      },
      "execution_count": null,
      "outputs": [
        {
          "output_type": "execute_result",
          "data": {
            "text/plain": [
              "int"
            ]
          },
          "metadata": {},
          "execution_count": 46
        }
      ]
    },
    {
      "cell_type": "markdown",
      "source": [
        "# **FLOAT**"
      ],
      "metadata": {
        "id": "j_yFf1KXl0zF"
      }
    },
    {
      "cell_type": "code",
      "source": [
        "# Print the type of 1.0\n",
        "\n",
        "type(1.0) # Notice that 1 is an int, and 1.0 is a float"
      ],
      "metadata": {
        "colab": {
          "base_uri": "https://localhost:8080/"
        },
        "id": "PaRnmDfcKMH9",
        "outputId": "ce030a1e-f1b5-41ce-844f-94de5876bcad"
      },
      "execution_count": null,
      "outputs": [
        {
          "output_type": "execute_result",
          "data": {
            "text/plain": [
              "float"
            ]
          },
          "metadata": {},
          "execution_count": 47
        }
      ]
    },
    {
      "cell_type": "code",
      "source": [
        "# Print the type of 0.5\n",
        "\n",
        "type (0.5)"
      ],
      "metadata": {
        "colab": {
          "base_uri": "https://localhost:8080/"
        },
        "id": "yl-gTunkKc_I",
        "outputId": "e597c7b9-7b67-4218-8f7f-7322554738ee"
      },
      "execution_count": null,
      "outputs": [
        {
          "output_type": "execute_result",
          "data": {
            "text/plain": [
              "float"
            ]
          },
          "metadata": {},
          "execution_count": 49
        }
      ]
    },
    {
      "cell_type": "code",
      "source": [
        "# Print the type of 0.56\n",
        "\n",
        "type(0.56)"
      ],
      "metadata": {
        "colab": {
          "base_uri": "https://localhost:8080/"
        },
        "id": "jrkmpIWaKgWo",
        "outputId": "5d63d791-d0a1-4b0a-bcbc-a8d2bc60f22d"
      },
      "execution_count": 6,
      "outputs": [
        {
          "output_type": "execute_result",
          "data": {
            "text/plain": [
              "float"
            ]
          },
          "metadata": {},
          "execution_count": 6
        }
      ]
    },
    {
      "cell_type": "code",
      "source": [
        "# System settings anbout float type\n",
        "\n",
        "import sys # it is needes to declare the library \"sys\" before using it\n",
        "\n",
        "sys.float_info"
      ],
      "metadata": {
        "colab": {
          "base_uri": "https://localhost:8080/"
        },
        "id": "gItGhRaimAMw",
        "outputId": "245c6128-3b2e-4b4f-80f7-049d8ba00013"
      },
      "execution_count": 7,
      "outputs": [
        {
          "output_type": "execute_result",
          "data": {
            "text/plain": [
              "sys.float_info(max=1.7976931348623157e+308, max_exp=1024, max_10_exp=308, min=2.2250738585072014e-308, min_exp=-1021, min_10_exp=-307, dig=15, mant_dig=53, epsilon=2.220446049250313e-16, radix=2, rounds=1)"
            ]
          },
          "metadata": {},
          "execution_count": 7
        }
      ]
    },
    {
      "cell_type": "code",
      "source": [
        "# Verify that this is an integer\n",
        "\n",
        "type(2)"
      ],
      "metadata": {
        "colab": {
          "base_uri": "https://localhost:8080/"
        },
        "id": "AWT1zGaHKv3Z",
        "outputId": "176efada-25df-4f8e-97d7-fc3a17630895"
      },
      "execution_count": null,
      "outputs": [
        {
          "output_type": "execute_result",
          "data": {
            "text/plain": [
              "int"
            ]
          },
          "metadata": {},
          "execution_count": 54
        }
      ]
    },
    {
      "cell_type": "code",
      "source": [
        "# Convert 2 to a float\n",
        "\n",
        "float(2)"
      ],
      "metadata": {
        "colab": {
          "base_uri": "https://localhost:8080/"
        },
        "id": "EweYmtqNK7Zf",
        "outputId": "daadddf4-5c80-457b-e393-bd74d4c9d54a"
      },
      "execution_count": null,
      "outputs": [
        {
          "output_type": "execute_result",
          "data": {
            "text/plain": [
              "2.0"
            ]
          },
          "metadata": {},
          "execution_count": 55
        }
      ]
    },
    {
      "cell_type": "code",
      "source": [
        "# Convert integer 2 to a float and check its type\n",
        "\n",
        "type(float(2))"
      ],
      "metadata": {
        "colab": {
          "base_uri": "https://localhost:8080/"
        },
        "id": "33qzTmUxK-2X",
        "outputId": "f15acb34-7932-4f40-fb67-3a872787f213"
      },
      "execution_count": null,
      "outputs": [
        {
          "output_type": "execute_result",
          "data": {
            "text/plain": [
              "float"
            ]
          },
          "metadata": {},
          "execution_count": 56
        }
      ]
    },
    {
      "cell_type": "code",
      "source": [
        "# Casting 1.1 to integer will result in loss of information\n",
        "\n",
        "int(1.1)"
      ],
      "metadata": {
        "colab": {
          "base_uri": "https://localhost:8080/"
        },
        "id": "MJYXF1dkLFd8",
        "outputId": "dfb639be-0ab1-4a59-8711-0247c1b9c040"
      },
      "execution_count": null,
      "outputs": [
        {
          "output_type": "execute_result",
          "data": {
            "text/plain": [
              "1"
            ]
          },
          "metadata": {},
          "execution_count": 57
        }
      ]
    },
    {
      "cell_type": "code",
      "source": [
        "# Convert a string into an integer\n",
        "\n",
        "int('1')"
      ],
      "metadata": {
        "colab": {
          "base_uri": "https://localhost:8080/"
        },
        "id": "N1oMRtJ9LLrE",
        "outputId": "64f5f39a-e3aa-4ba9-ef91-7971e46085cd"
      },
      "execution_count": null,
      "outputs": [
        {
          "output_type": "execute_result",
          "data": {
            "text/plain": [
              "1"
            ]
          },
          "metadata": {},
          "execution_count": 58
        }
      ]
    },
    {
      "cell_type": "code",
      "source": [
        "# Convert a string into an integer with error\n",
        "\n",
        "int('1 or 2 people')"
      ],
      "metadata": {
        "colab": {
          "base_uri": "https://localhost:8080/",
          "height": 176
        },
        "id": "1O-i-fN-LQkk",
        "outputId": "e96fc136-f352-4f8b-f2db-f5af417cd996"
      },
      "execution_count": null,
      "outputs": [
        {
          "output_type": "error",
          "ename": "ValueError",
          "evalue": "invalid literal for int() with base 10: '1 or 2 people'",
          "traceback": [
            "\u001b[0;31m---------------------------------------------------------------------------\u001b[0m",
            "\u001b[0;31mValueError\u001b[0m                                Traceback (most recent call last)",
            "\u001b[0;32m<ipython-input-59-b78145d165c7>\u001b[0m in \u001b[0;36m<cell line: 3>\u001b[0;34m()\u001b[0m\n\u001b[1;32m      1\u001b[0m \u001b[0;31m# Convert a string into an integer with error\u001b[0m\u001b[0;34m\u001b[0m\u001b[0;34m\u001b[0m\u001b[0m\n\u001b[1;32m      2\u001b[0m \u001b[0;34m\u001b[0m\u001b[0m\n\u001b[0;32m----> 3\u001b[0;31m \u001b[0mint\u001b[0m\u001b[0;34m(\u001b[0m\u001b[0;34m'1 or 2 people'\u001b[0m\u001b[0;34m)\u001b[0m\u001b[0;34m\u001b[0m\u001b[0;34m\u001b[0m\u001b[0m\n\u001b[0m",
            "\u001b[0;31mValueError\u001b[0m: invalid literal for int() with base 10: '1 or 2 people'"
          ]
        }
      ]
    },
    {
      "cell_type": "code",
      "source": [
        "# Convert the string \"1.2\" into a float\n",
        "\n",
        "float('1.2')"
      ],
      "metadata": {
        "colab": {
          "base_uri": "https://localhost:8080/"
        },
        "id": "dcWTcCieLWyB",
        "outputId": "50a7ff17-d675-4e87-dfd8-44b46695cf5d"
      },
      "execution_count": null,
      "outputs": [
        {
          "output_type": "execute_result",
          "data": {
            "text/plain": [
              "1.2"
            ]
          },
          "metadata": {},
          "execution_count": 60
        }
      ]
    },
    {
      "cell_type": "code",
      "source": [
        "# Convert an integer to a string\n",
        "\n",
        "str(1)"
      ],
      "metadata": {
        "colab": {
          "base_uri": "https://localhost:8080/",
          "height": 35
        },
        "id": "kuD40NzpLb0h",
        "outputId": "5410ff9e-90f9-42da-b0ce-1de3e1b1e3e2"
      },
      "execution_count": null,
      "outputs": [
        {
          "output_type": "execute_result",
          "data": {
            "text/plain": [
              "'1'"
            ],
            "application/vnd.google.colaboratory.intrinsic+json": {
              "type": "string"
            }
          },
          "metadata": {},
          "execution_count": 61
        }
      ]
    },
    {
      "cell_type": "code",
      "source": [
        "# Convert an float to a string\n",
        "\n",
        "str(1.2)"
      ],
      "metadata": {
        "colab": {
          "base_uri": "https://localhost:8080/",
          "height": 35
        },
        "id": "lN04IirOLqve",
        "outputId": "7497c70d-dd09-4679-fdcd-25545bb56b25"
      },
      "execution_count": null,
      "outputs": [
        {
          "output_type": "execute_result",
          "data": {
            "text/plain": [
              "'1.2'"
            ],
            "application/vnd.google.colaboratory.intrinsic+json": {
              "type": "string"
            }
          },
          "metadata": {},
          "execution_count": 62
        }
      ]
    },
    {
      "cell_type": "markdown",
      "source": [
        "# **BOOLEAN**"
      ],
      "metadata": {
        "id": "zWcB5GE_mdC4"
      }
    },
    {
      "cell_type": "code",
      "source": [
        "# Value True\n",
        "\n",
        "True"
      ],
      "metadata": {
        "colab": {
          "base_uri": "https://localhost:8080/"
        },
        "id": "QAtEHWA5LuXG",
        "outputId": "400802f0-fbe4-477c-e00c-65749bac127a"
      },
      "execution_count": null,
      "outputs": [
        {
          "output_type": "execute_result",
          "data": {
            "text/plain": [
              "True"
            ]
          },
          "metadata": {},
          "execution_count": 63
        }
      ]
    },
    {
      "cell_type": "code",
      "source": [
        "# Value False\n",
        "\n",
        "False"
      ],
      "metadata": {
        "colab": {
          "base_uri": "https://localhost:8080/"
        },
        "id": "mUe49gK0LxGu",
        "outputId": "f407823b-2fae-42a6-b042-5e9f738b46e2"
      },
      "execution_count": null,
      "outputs": [
        {
          "output_type": "execute_result",
          "data": {
            "text/plain": [
              "False"
            ]
          },
          "metadata": {},
          "execution_count": 64
        }
      ]
    },
    {
      "cell_type": "code",
      "source": [
        "# Type of True\n",
        "\n",
        "type(True)"
      ],
      "metadata": {
        "colab": {
          "base_uri": "https://localhost:8080/"
        },
        "id": "pUB0FBhfLy2m",
        "outputId": "0d6fe597-97cf-4b97-b150-5522c6a959ec"
      },
      "execution_count": null,
      "outputs": [
        {
          "output_type": "execute_result",
          "data": {
            "text/plain": [
              "bool"
            ]
          },
          "metadata": {},
          "execution_count": 67
        }
      ]
    },
    {
      "cell_type": "code",
      "source": [
        "# Type of False\n",
        "\n",
        "type(False)"
      ],
      "metadata": {
        "colab": {
          "base_uri": "https://localhost:8080/"
        },
        "id": "GUcE3QdWL17G",
        "outputId": "d844b3e1-8899-421d-b7dc-ef41ba711163"
      },
      "execution_count": null,
      "outputs": [
        {
          "output_type": "execute_result",
          "data": {
            "text/plain": [
              "bool"
            ]
          },
          "metadata": {},
          "execution_count": 68
        }
      ]
    },
    {
      "cell_type": "code",
      "source": [
        "# Convert True to int\n",
        "\n",
        "int(True)"
      ],
      "metadata": {
        "colab": {
          "base_uri": "https://localhost:8080/"
        },
        "id": "tN9dXKDbL4zP",
        "outputId": "e8358409-51ec-45e4-ae7b-9772f4fed5eb"
      },
      "execution_count": null,
      "outputs": [
        {
          "output_type": "execute_result",
          "data": {
            "text/plain": [
              "1"
            ]
          },
          "metadata": {},
          "execution_count": 69
        }
      ]
    },
    {
      "cell_type": "code",
      "source": [
        "# Convert 1 to boolean\n",
        "\n",
        "bool(1)"
      ],
      "metadata": {
        "colab": {
          "base_uri": "https://localhost:8080/"
        },
        "id": "2_qiJ6a2MAom",
        "outputId": "8795a016-3799-4094-efac-fe7c714a3390"
      },
      "execution_count": null,
      "outputs": [
        {
          "output_type": "execute_result",
          "data": {
            "text/plain": [
              "True"
            ]
          },
          "metadata": {},
          "execution_count": 70
        }
      ]
    },
    {
      "cell_type": "code",
      "source": [
        "# Convert 0 to boolean\n",
        "\n",
        "bool(0)"
      ],
      "metadata": {
        "colab": {
          "base_uri": "https://localhost:8080/"
        },
        "id": "z_eVUwRoMC-1",
        "outputId": "7174ff20-e429-4edb-e540-2771e2bdcd8f"
      },
      "execution_count": null,
      "outputs": [
        {
          "output_type": "execute_result",
          "data": {
            "text/plain": [
              "False"
            ]
          },
          "metadata": {},
          "execution_count": 71
        }
      ]
    },
    {
      "cell_type": "code",
      "source": [
        "# Convert True to float\n",
        "\n",
        "float(True)"
      ],
      "metadata": {
        "colab": {
          "base_uri": "https://localhost:8080/"
        },
        "id": "egs9wCmdMFcf",
        "outputId": "7b915e8f-b49c-432d-ce1f-3bd8370b4c56"
      },
      "execution_count": null,
      "outputs": [
        {
          "output_type": "execute_result",
          "data": {
            "text/plain": [
              "1.0"
            ]
          },
          "metadata": {},
          "execution_count": 72
        }
      ]
    },
    {
      "cell_type": "code",
      "source": [
        "# Write your code below. Don't forget to press Shift+Enter to execute the cell\n",
        "type(6/2)"
      ],
      "metadata": {
        "colab": {
          "base_uri": "https://localhost:8080/"
        },
        "id": "MaZM3NxVMJle",
        "outputId": "a822cc47-908a-4ff6-bda6-f1d068805d06"
      },
      "execution_count": null,
      "outputs": [
        {
          "output_type": "execute_result",
          "data": {
            "text/plain": [
              "float"
            ]
          },
          "metadata": {},
          "execution_count": 73
        }
      ]
    },
    {
      "cell_type": "code",
      "source": [
        "# Write your code below. Don't forget to press Shift+Enter to execute the cell\n",
        "type(6//2)"
      ],
      "metadata": {
        "colab": {
          "base_uri": "https://localhost:8080/"
        },
        "id": "cqHMVH8SMSR2",
        "outputId": "3efb9567-cec7-4bd2-b08b-add4135f4837"
      },
      "execution_count": null,
      "outputs": [
        {
          "output_type": "execute_result",
          "data": {
            "text/plain": [
              "int"
            ]
          },
          "metadata": {},
          "execution_count": 74
        }
      ]
    },
    {
      "cell_type": "code",
      "source": [
        "# Addition operation expression\n",
        "\n",
        "# 43 + 60 + 16 + 41\n",
        "\n",
        "type(10.55+10.5-5)"
      ],
      "metadata": {
        "colab": {
          "base_uri": "https://localhost:8080/"
        },
        "id": "eom3rbekMdkN",
        "outputId": "39f86d4a-9327-4b86-c36f-cb93d3f50054"
      },
      "execution_count": null,
      "outputs": [
        {
          "output_type": "execute_result",
          "data": {
            "text/plain": [
              "float"
            ]
          },
          "metadata": {},
          "execution_count": 76
        }
      ]
    },
    {
      "cell_type": "code",
      "source": [
        "# Subtraction operation expression\n",
        "\n",
        "type(50-60)"
      ],
      "metadata": {
        "colab": {
          "base_uri": "https://localhost:8080/"
        },
        "id": "Nn2VixH8Mo8t",
        "outputId": "a103f707-4fc0-4f06-81fe-c1987e853494"
      },
      "execution_count": null,
      "outputs": [
        {
          "output_type": "execute_result",
          "data": {
            "text/plain": [
              "int"
            ]
          },
          "metadata": {},
          "execution_count": 77
        }
      ]
    },
    {
      "cell_type": "code",
      "source": [
        "# Multiplication operation expression\n",
        "\n",
        "5 * 5"
      ],
      "metadata": {
        "colab": {
          "base_uri": "https://localhost:8080/"
        },
        "id": "vpF1RA-OMufd",
        "outputId": "c96b14ff-907e-4012-b26e-e90ee866c323"
      },
      "execution_count": null,
      "outputs": [
        {
          "output_type": "execute_result",
          "data": {
            "text/plain": [
              "25"
            ]
          },
          "metadata": {},
          "execution_count": 78
        }
      ]
    },
    {
      "cell_type": "code",
      "source": [
        "# Divison operation expression\n",
        "\n",
        "25 / 5"
      ],
      "metadata": {
        "colab": {
          "base_uri": "https://localhost:8080/"
        },
        "id": "djaFx_8bM0Il",
        "outputId": "9740f80e-a8de-4cef-cebe-eae8a12965c1"
      },
      "execution_count": null,
      "outputs": [
        {
          "output_type": "execute_result",
          "data": {
            "text/plain": [
              "5.0"
            ]
          },
          "metadata": {},
          "execution_count": 79
        }
      ]
    },
    {
      "cell_type": "code",
      "source": [
        "# Divison operation expression\n",
        "\n",
        "25 / 6"
      ],
      "metadata": {
        "colab": {
          "base_uri": "https://localhost:8080/"
        },
        "id": "kQUyUi66M5oV",
        "outputId": "f67bcd52-2107-4439-bb59-feb5f63d6886"
      },
      "execution_count": null,
      "outputs": [
        {
          "output_type": "execute_result",
          "data": {
            "text/plain": [
              "4.166666666666667"
            ]
          },
          "metadata": {},
          "execution_count": 80
        }
      ]
    },
    {
      "cell_type": "code",
      "source": [
        "# Integer division operation expression\n",
        "\n",
        "25 // 5"
      ],
      "metadata": {
        "colab": {
          "base_uri": "https://localhost:8080/"
        },
        "id": "eGyEp3JBM7aj",
        "outputId": "134f9692-dbe9-4899-c720-f8381e28dfb3"
      },
      "execution_count": null,
      "outputs": [
        {
          "output_type": "execute_result",
          "data": {
            "text/plain": [
              "5"
            ]
          },
          "metadata": {},
          "execution_count": 81
        }
      ]
    },
    {
      "cell_type": "code",
      "source": [
        "# Integer division operation expression\n",
        "\n",
        "25 // 6"
      ],
      "metadata": {
        "colab": {
          "base_uri": "https://localhost:8080/"
        },
        "id": "yC5P0332NEob",
        "outputId": "e8ef23ca-fcb8-4bb1-a98e-7cee5b605ae2"
      },
      "execution_count": null,
      "outputs": [
        {
          "output_type": "execute_result",
          "data": {
            "text/plain": [
              "4"
            ]
          },
          "metadata": {},
          "execution_count": 82
        }
      ]
    },
    {
      "cell_type": "code",
      "source": [
        "# Exercise Expression\n",
        "\n",
        "160 / 60"
      ],
      "metadata": {
        "colab": {
          "base_uri": "https://localhost:8080/"
        },
        "id": "l7d0Qfb8NGPD",
        "outputId": "21b9f2c9-30e4-4da5-92c8-86e51384ede0"
      },
      "execution_count": null,
      "outputs": [
        {
          "output_type": "execute_result",
          "data": {
            "text/plain": [
              "2.6666666666666665"
            ]
          },
          "metadata": {},
          "execution_count": 83
        }
      ]
    },
    {
      "cell_type": "code",
      "source": [
        "# Mathematical Expression\n",
        "\n",
        "30 + 2 * 60 // 10"
      ],
      "metadata": {
        "colab": {
          "base_uri": "https://localhost:8080/"
        },
        "id": "lEwns2IgNN7l",
        "outputId": "8f003953-64d2-4260-a827-03e70132786e"
      },
      "execution_count": null,
      "outputs": [
        {
          "output_type": "execute_result",
          "data": {
            "text/plain": [
              "42"
            ]
          },
          "metadata": {},
          "execution_count": 84
        }
      ]
    },
    {
      "cell_type": "code",
      "source": [
        "# Mathematical Expression\n",
        "\n",
        "(30 + 2) * 60"
      ],
      "metadata": {
        "colab": {
          "base_uri": "https://localhost:8080/"
        },
        "id": "9r5EdVAgNTYV",
        "outputId": "182edc71-8563-4c25-dbe2-c00837676568"
      },
      "execution_count": null,
      "outputs": [
        {
          "output_type": "execute_result",
          "data": {
            "text/plain": [
              "1920"
            ]
          },
          "metadata": {},
          "execution_count": 85
        }
      ]
    },
    {
      "cell_type": "code",
      "source": [
        "# Store value into variable\n",
        "\n",
        "x = 43 + 60 + 16 + 41\n",
        "x"
      ],
      "metadata": {
        "colab": {
          "base_uri": "https://localhost:8080/"
        },
        "id": "fFI9YjxtNZ40",
        "outputId": "6925bf51-ece3-4e55-90b4-875de4cde3d4"
      },
      "execution_count": null,
      "outputs": [
        {
          "output_type": "execute_result",
          "data": {
            "text/plain": [
              "160"
            ]
          },
          "metadata": {},
          "execution_count": 86
        }
      ]
    },
    {
      "cell_type": "code",
      "source": [
        "# Print out the value in variable\n",
        "\n",
        "x = 43 + 60 + 16 + 41\n",
        "x"
      ],
      "metadata": {
        "colab": {
          "base_uri": "https://localhost:8080/"
        },
        "id": "32NhmL2RNjBs",
        "outputId": "7fdfe546-4e7e-4151-8740-2513a5748618"
      },
      "execution_count": null,
      "outputs": [
        {
          "output_type": "execute_result",
          "data": {
            "text/plain": [
              "160"
            ]
          },
          "metadata": {},
          "execution_count": 87
        }
      ]
    },
    {
      "cell_type": "code",
      "source": [
        "# Use another variable to store the result of the operation between variable an value\n",
        "\n",
        "y = x / 60\n",
        "y"
      ],
      "metadata": {
        "colab": {
          "base_uri": "https://localhost:8080/"
        },
        "id": "Ib4otYpFNpns",
        "outputId": "63f0a0b2-abef-4a2d-fb5d-7e72481f8133"
      },
      "execution_count": null,
      "outputs": [
        {
          "output_type": "execute_result",
          "data": {
            "text/plain": [
              "2.6666666666666665"
            ]
          },
          "metadata": {},
          "execution_count": 88
        }
      ]
    },
    {
      "cell_type": "code",
      "source": [
        "# Overwrite variable with new value\n",
        "\n",
        "x = x / 60\n",
        "print(x)"
      ],
      "metadata": {
        "colab": {
          "base_uri": "https://localhost:8080/"
        },
        "id": "cTX7PkMYNw3M",
        "outputId": "fd761cb7-9d59-4ede-fd59-e760fdcc5611"
      },
      "execution_count": null,
      "outputs": [
        {
          "output_type": "stream",
          "name": "stdout",
          "text": [
            "2.6666666666666665\n"
          ]
        }
      ]
    },
    {
      "cell_type": "code",
      "source": [
        "x"
      ],
      "metadata": {
        "colab": {
          "base_uri": "https://localhost:8080/"
        },
        "id": "DKK30gdTN5cr",
        "outputId": "a4a2ed2c-497f-432d-cf95-28139b146c56"
      },
      "execution_count": null,
      "outputs": [
        {
          "output_type": "execute_result",
          "data": {
            "text/plain": [
              "2.6666666666666665"
            ]
          },
          "metadata": {},
          "execution_count": 90
        }
      ]
    },
    {
      "cell_type": "code",
      "source": [
        "# Name the variable meaningfully\n",
        "\n",
        "total_min = 43 + 42 + 57 # Total length of albums in minutes\n",
        "total_min"
      ],
      "metadata": {
        "colab": {
          "base_uri": "https://localhost:8080/"
        },
        "id": "J5SZSzQFN6zk",
        "outputId": "e500db1e-d411-4932-8af9-f32ef50f82b4"
      },
      "execution_count": null,
      "outputs": [
        {
          "output_type": "execute_result",
          "data": {
            "text/plain": [
              "142"
            ]
          },
          "metadata": {},
          "execution_count": 91
        }
      ]
    },
    {
      "cell_type": "code",
      "source": [
        "float(total_min)"
      ],
      "metadata": {
        "colab": {
          "base_uri": "https://localhost:8080/"
        },
        "id": "rNWCRlPBOFmr",
        "outputId": "37f65d59-44c9-46e9-b223-3aa8da9b7f03"
      },
      "execution_count": null,
      "outputs": [
        {
          "output_type": "execute_result",
          "data": {
            "text/plain": [
              "142.0"
            ]
          },
          "metadata": {},
          "execution_count": 92
        }
      ]
    },
    {
      "cell_type": "code",
      "source": [
        "a = 2\n",
        "a"
      ],
      "metadata": {
        "colab": {
          "base_uri": "https://localhost:8080/"
        },
        "id": "2Z-De0AjOHnc",
        "outputId": "ea4b1e04-5dc9-43a5-afd8-46cc21520b7b"
      },
      "execution_count": null,
      "outputs": [
        {
          "output_type": "execute_result",
          "data": {
            "text/plain": [
              "2"
            ]
          },
          "metadata": {},
          "execution_count": 94
        }
      ]
    },
    {
      "cell_type": "code",
      "source": [
        "print(float(a))"
      ],
      "metadata": {
        "colab": {
          "base_uri": "https://localhost:8080/"
        },
        "id": "IdXDNx7BOJWr",
        "outputId": "4a7efc3b-c570-4d34-eb1b-573167f00b34"
      },
      "execution_count": null,
      "outputs": [
        {
          "output_type": "stream",
          "name": "stdout",
          "text": [
            "2.0\n"
          ]
        }
      ]
    },
    {
      "cell_type": "code",
      "source": [
        "# Name the variables meaningfully\n",
        "\n",
        "total_hours = total_min / 60 # Total length of albums in hours\n",
        "total_hours"
      ],
      "metadata": {
        "colab": {
          "base_uri": "https://localhost:8080/"
        },
        "id": "ORcuGUtcOObr",
        "outputId": "a508f592-469e-4095-d083-9ff5addf1733"
      },
      "execution_count": null,
      "outputs": [
        {
          "output_type": "execute_result",
          "data": {
            "text/plain": [
              "2.3666666666666667"
            ]
          },
          "metadata": {},
          "execution_count": 96
        }
      ]
    },
    {
      "cell_type": "code",
      "source": [
        "# Complicate Expression\n",
        "\n",
        "total_hours = (43 + 42 + 57) / 60 # Total hours in a single expression\n",
        "total_hours"
      ],
      "metadata": {
        "colab": {
          "base_uri": "https://localhost:8080/"
        },
        "id": "oJJKYcnUOXeT",
        "outputId": "a2a70168-1dbe-43e7-b806-fe18d7f1dc92"
      },
      "execution_count": null,
      "outputs": [
        {
          "output_type": "execute_result",
          "data": {
            "text/plain": [
              "2.3666666666666667"
            ]
          },
          "metadata": {},
          "execution_count": 97
        }
      ]
    },
    {
      "cell_type": "code",
      "source": [
        "# Write your code below. Don't forget to press Shift+Enter to execute the cell\n",
        "\n",
        "x = 3 + 2 * 2\n",
        "x"
      ],
      "metadata": {
        "colab": {
          "base_uri": "https://localhost:8080/"
        },
        "id": "MP4a_lPiOghD",
        "outputId": "ceffabad-c085-496c-e0de-891727f16e7c"
      },
      "execution_count": null,
      "outputs": [
        {
          "output_type": "execute_result",
          "data": {
            "text/plain": [
              "7"
            ]
          },
          "metadata": {},
          "execution_count": 99
        }
      ]
    },
    {
      "cell_type": "code",
      "source": [
        "# Write your code below. Don't forget to press Shift+Enter to execute the cell\n",
        "\n",
        "y = (3 + 2) * 2\n",
        "y"
      ],
      "metadata": {
        "colab": {
          "base_uri": "https://localhost:8080/"
        },
        "id": "00JOB4ksOsDQ",
        "outputId": "580ce691-dbfd-4266-c73e-11c6dd72ce66"
      },
      "execution_count": null,
      "outputs": [
        {
          "output_type": "execute_result",
          "data": {
            "text/plain": [
              "10"
            ]
          },
          "metadata": {},
          "execution_count": 101
        }
      ]
    },
    {
      "cell_type": "code",
      "source": [
        "# Write your code below. Don't forget to press Shift+Enter to execute the cell\n",
        "\n",
        "z = x + y\n",
        "z"
      ],
      "metadata": {
        "colab": {
          "base_uri": "https://localhost:8080/"
        },
        "id": "E4F2QcALO1xF",
        "outputId": "828588f2-65b7-4bac-c372-1d6ecca1c671"
      },
      "execution_count": null,
      "outputs": [
        {
          "output_type": "execute_result",
          "data": {
            "text/plain": [
              "17"
            ]
          },
          "metadata": {},
          "execution_count": 103
        }
      ]
    },
    {
      "cell_type": "markdown",
      "source": [
        "# **WEEKLY EXERCISE 2 // 1.1**"
      ],
      "metadata": {
        "id": "Onr-eoy1nhyV"
      }
    },
    {
      "cell_type": "code",
      "source": [
        "# Weekly Exercise\n",
        "\n",
        "Panjang = 20.5\n",
        "Lebar = 25\n",
        "Tinggi = 10\n",
        "\n",
        "Keliling = 2 * (Panjang + Lebar)\n",
        "Luas = Panjang * Lebar\n",
        "Volume = Panjang * Lebar * Tinggi\n",
        "\n",
        "print('Panjang   =',Panjang)\n",
        "print('Lebar     =',Lebar)\n",
        "print('Tinggi    =',Tinggi)\n",
        "print('Keliling  =',Keliling)\n",
        "print('Luas      =',Luas)\n",
        "print('Volume    =',Volume)\n"
      ],
      "metadata": {
        "colab": {
          "base_uri": "https://localhost:8080/"
        },
        "id": "tUrdty6OO4tc",
        "outputId": "77c28a25-5027-4641-9d7d-d786d6cd9d9b"
      },
      "execution_count": null,
      "outputs": [
        {
          "output_type": "stream",
          "name": "stdout",
          "text": [
            "Panjang   = 20.5\n",
            "Lebar     = 25\n",
            "Tinggi    = 10\n",
            "Keliling  = 91.0\n",
            "Luas      = 512.5\n",
            "Volume    = 5125.0\n"
          ]
        }
      ]
    },
    {
      "cell_type": "code",
      "source": [
        "# Weekly Exercise 2\n",
        "\n",
        "#Rata Rata nilai Shafira pada kedua mata kuliah\n",
        "KS = 85\n",
        "MSS = 75\n",
        "Rata = (KS + MSS) / 2\n",
        "print('Rata-Rata Nilai Shafira =',Rata)"
      ],
      "metadata": {
        "colab": {
          "base_uri": "https://localhost:8080/"
        },
        "id": "3f9ZSHL6Pbt4",
        "outputId": "4112a205-b5c9-4637-f970-8551026aae79"
      },
      "execution_count": null,
      "outputs": [
        {
          "output_type": "stream",
          "name": "stdout",
          "text": [
            "Rata-Rata Nilai Shafira = 80.0\n"
          ]
        }
      ]
    },
    {
      "cell_type": "code",
      "source": [
        "# Jumlah Nilai Hanif dan Andi untuk semua mata kuliah\n",
        "KH = 75\n",
        "MSH = 90\n",
        "KA = 70\n",
        "MSA = 75\n",
        "\n",
        "Jumlah = (KH + MSH + KA + MSA)\n",
        "print('Jumlah Nilai Hanif dan Andi =',Jumlah)"
      ],
      "metadata": {
        "colab": {
          "base_uri": "https://localhost:8080/"
        },
        "id": "CsR2WfDuVVT7",
        "outputId": "ce3b3bc9-9412-4c20-a9a6-9e3bf480d866"
      },
      "execution_count": null,
      "outputs": [
        {
          "output_type": "stream",
          "name": "stdout",
          "text": [
            "Jumlah Nilai Hanif dan Andi = 310\n"
          ]
        }
      ]
    },
    {
      "cell_type": "markdown",
      "source": [
        "# **WEEKLY EXERCISE // 1.2**"
      ],
      "metadata": {
        "id": "77CrDmgqn2dk"
      }
    },
    {
      "cell_type": "code",
      "source": [],
      "metadata": {
        "id": "q3qMjQN6n53-"
      },
      "execution_count": null,
      "outputs": []
    },
    {
      "cell_type": "code",
      "source": [
        "# Rata-rata nilai Widya, Dhanar, Hikma, dan Nedia pada masing masing kuliah\n",
        "# Kalkulus\n",
        "KW    = 85\n",
        "KD    = 85\n",
        "KHi   = 80\n",
        "KN    = 95\n",
        "\n",
        "# Metode Statistika\n",
        "MSW   = 85\n",
        "MSD   = 85\n",
        "MSHi  = 75\n",
        "MSN   = 80\n",
        "\n",
        "# Rata Rata Nilai\n",
        "Widya = (KW + MSW)/2\n",
        "Dhanar = (KD + MSD)/2\n",
        "Hikmah = (KHi + MSHi)/2\n",
        "Nedia = (KN + MSN)/2\n",
        "\n",
        "print('Rata-Rata Nilai Widya  =',Widya)\n",
        "print('Rata-Rata Nilai Dhanar =',Dhanar)\n",
        "print('Rata-Rata Nilai Hikmah =',Hikmah)\n",
        "print('Rata-Rata Nilai Nedia  =',Nedia)\n"
      ],
      "metadata": {
        "colab": {
          "base_uri": "https://localhost:8080/"
        },
        "id": "jnpVhsWwWI9K",
        "outputId": "ce4e709b-b9e0-49b4-c1ab-d830e743cc1f"
      },
      "execution_count": null,
      "outputs": [
        {
          "output_type": "stream",
          "name": "stdout",
          "text": [
            "Rata-Rata Nilai Widya  = 85.0\n",
            "Rata-Rata Nilai Dhanar = 85.0\n",
            "Rata-Rata Nilai Hikmah = 77.5\n",
            "Rata-Rata Nilai Nedia  = 87.5\n"
          ]
        }
      ]
    },
    {
      "cell_type": "code",
      "source": [
        "# Rata-rata nilai mata kuliah Kalkulus 1 untuk semua Mahasiswa\n",
        "# Kalkulus\n",
        "KS = 85\n",
        "KAm = 80\n",
        "KAd = 75\n",
        "KN = 95\n",
        "KW = 85\n",
        "KH = 75\n",
        "KA = 70\n",
        "KD = 85\n",
        "KHi = 80\n",
        "# Rata Rata\n",
        "Rata = (KS + KAm + KAd + KN + KW + KH + KA + KD + KHi)/9\n",
        "print('Rata Rata Nilai Kalkulus 1 Semua Mahasiswa =',Rata)"
      ],
      "metadata": {
        "colab": {
          "base_uri": "https://localhost:8080/"
        },
        "id": "p6BAmpGPYhGQ",
        "outputId": "4481621f-2981-45d0-858d-f4ec9de523df"
      },
      "execution_count": null,
      "outputs": [
        {
          "output_type": "stream",
          "name": "stdout",
          "text": [
            "Rata Rata Nilai Kalkulus 1 Semua Mahasiswa = 81.11111111111111\n"
          ]
        }
      ]
    },
    {
      "cell_type": "code",
      "source": [
        "# Rata Rata nilai kuliah Metode Statistika untuk semua Mahasiswa\n",
        "\n",
        "# Nilai Metode Statistika\n",
        "MSS = 75\n",
        "MSAm = 90\n",
        "MSAd = 80\n",
        "MSN = 80\n",
        "MSW = 85\n",
        "MSH = 90\n",
        "MSAn = 75\n",
        "MSD = 85\n",
        "MSHi = 75\n",
        "\n",
        "# Rata Rata Semua Maha Siswa\n",
        "\n",
        "Rata = (MSS + MSAm + MSAd + MSN + MSW + MSH + MSAn + MSD + MSHi) / 9\n",
        "print('Rata Rata Nilai Metode Statistika Semua Mahasiswa =',Rata)"
      ],
      "metadata": {
        "id": "ILv30BC6aRMt",
        "colab": {
          "base_uri": "https://localhost:8080/"
        },
        "outputId": "a60d664c-4e8d-4664-826f-2f850d18f3bf"
      },
      "execution_count": null,
      "outputs": [
        {
          "output_type": "stream",
          "name": "stdout",
          "text": [
            "Rata Rata Nilai Metode Statistika Semua Mahasiswa = 81.66666666666667\n"
          ]
        }
      ]
    },
    {
      "cell_type": "markdown",
      "source": [
        "# **WEEKLY EXERCISE // 1.3**"
      ],
      "metadata": {
        "id": "Yw-_wbN_oDRH"
      }
    },
    {
      "cell_type": "code",
      "source": [
        "# Menampilkan sebuah gaji seorang karyawan pabrik swasta\n",
        "\n",
        "# Data yang ada\n",
        "Agustus = 31\n",
        "BekerjaSehari = 8\n",
        "UpahPerjam = 30000\n",
        "\n",
        "# Gaji Pada bulan Agustus jika Dwi tidak masuk kerja selama 3 har, berapa gaji yang di terima oleh dwi\n",
        "Agustus = 31\n",
        "BekerjaSehari = 8\n",
        "UpahPerjam = 30000\n",
        "\n",
        "Gaji = ((Agustus-3) * BekerjaSehari * UpahPerjam)\n",
        "print('Gaji Dwi Sebulan =',Gaji)"
      ],
      "metadata": {
        "colab": {
          "base_uri": "https://localhost:8080/"
        },
        "id": "tEIXxMjR7vPY",
        "outputId": "617a611a-f41b-4185-dc5a-6614c903b9f6"
      },
      "execution_count": null,
      "outputs": [
        {
          "output_type": "stream",
          "name": "stdout",
          "text": [
            "Gaji Dwi Sebulan = 6720000\n"
          ]
        }
      ]
    },
    {
      "cell_type": "code",
      "source": [
        "# Tunjangan Pada setiap gajian 10%\n",
        "\n",
        "# Data yang ada\n",
        "Tunjangan = 10/100\n",
        "GajiAgustus = 6720000\n",
        "\n",
        "# Gaji seluruhnya\n",
        "Gaji = (GajiAgustus * Tunjangan) + (GajiAgustus)\n",
        "print('Total Seluruh Gaji Dwi dengan Tunjangan =',Gaji)"
      ],
      "metadata": {
        "colab": {
          "base_uri": "https://localhost:8080/"
        },
        "id": "DtjD5Tvi95Tb",
        "outputId": "0d548cf2-96be-4911-cdb7-2c81457fd711"
      },
      "execution_count": null,
      "outputs": [
        {
          "output_type": "stream",
          "name": "stdout",
          "text": [
            "Total Seluruh Gaji Dwi dengan Tunjangan = 7392000.0\n"
          ]
        }
      ]
    },
    {
      "cell_type": "code",
      "source": [
        "# Mendapatkan Tugas Lembur selama 5 Jam\n",
        "\n",
        "# Data yang ada\n",
        "GajiP = 30000 # P = Perjam\n",
        "GajiL = 10000 # L = Lembur\n",
        "Lembur = 5\n",
        "BekerjaSehari = 8\n",
        "Agustus = 31\n",
        "Libur = 3\n",
        "Tunjangan = 10/100\n",
        "\n",
        "# Gaji Total 1 Bulan Agustus\n",
        "\n",
        "\n",
        "GajiATTL = ((Agustus - Libur) * BekerjaSehari * GajiP) # ATTL = Awal Tanpa Tunjangan Lembur\n",
        "GajiTunjangan = ((GajiATTL * Tunjangan) + GajiATTL)\n",
        "GajiLembur = (Agustus - Libur) * ((BekerjaSehari * GajiP) + (Lembur * GajiL))\n",
        "GajiSeluruh = ((GajiLembur * Tunjangan) + GajiLembur)\n",
        "\n",
        "print('Gaji Awal Tanpa Tunjangan Lembur           = ',GajiATTL)\n",
        "print('Gaji Dwi Plus Tunjangan                    = ',GajiTunjangan)\n",
        "print('Gaji Dwi Plus Lembur                       = ',GajiLembur)\n",
        "print('Gaji Seluruh Dwi plus Tunjangan dan Lembur = ',GajiSeluruh)"
      ],
      "metadata": {
        "colab": {
          "base_uri": "https://localhost:8080/"
        },
        "id": "dgeYx6IHA-H0",
        "outputId": "088a71c7-5c01-47ee-85e1-072fb44e93ab"
      },
      "execution_count": null,
      "outputs": [
        {
          "output_type": "stream",
          "name": "stdout",
          "text": [
            "Gaji Awal Tanpa Tunjangan Lembur           =  6720000\n",
            "Gaji Dwi Plus Tunjangan                    =  7392000.0\n",
            "Gaji Dwi Plus Lembur                       =  8120000\n",
            "Gaji Seluruh Dwi plus Tunjangan dan Lembur =  8932000.0\n"
          ]
        }
      ]
    },
    {
      "cell_type": "code",
      "source": [],
      "metadata": {
        "colab": {
          "base_uri": "https://localhost:8080/"
        },
        "id": "C27j7eO9rOhq",
        "outputId": "45c25b3f-5db3-471b-ed10-96c71bc19275"
      },
      "execution_count": 10,
      "outputs": [
        {
          "output_type": "stream",
          "name": "stdout",
          "text": [
            "UNIVERSITAS TIDAR\n"
          ]
        }
      ]
    },
    {
      "cell_type": "code",
      "source": [],
      "metadata": {
        "id": "nOrB-z4hrQtI"
      },
      "execution_count": null,
      "outputs": []
    }
  ]
}