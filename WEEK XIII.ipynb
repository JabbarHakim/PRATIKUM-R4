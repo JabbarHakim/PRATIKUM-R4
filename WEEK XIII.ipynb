{
  "nbformat": 4,
  "nbformat_minor": 0,
  "metadata": {
    "colab": {
      "provenance": []
    },
    "kernelspec": {
      "name": "python3",
      "display_name": "Python 3"
    },
    "language_info": {
      "name": "python"
    }
  },
  "cells": [
    {
      "cell_type": "code",
      "execution_count": null,
      "metadata": {
        "colab": {
          "base_uri": "https://localhost:8080/"
        },
        "id": "WN0522MtZ724",
        "outputId": "69a58c79-b3f8-48f5-a40b-158682fa3f7e"
      },
      "outputs": [
        {
          "output_type": "stream",
          "name": "stdout",
          "text": [
            "Bolpoint → Stok 10 → Harga Satuan 2000 → Harga Total 20000\n",
            "Pensil → Stok 10 → Harga Satuan 1000 → Harga Total 10000\n",
            "Penghapus → Stok 10 → Harga Satuan 500 → Harga Total 5000\n",
            " \n",
            "Total Harga Semua Alat Tulis → 35000\n"
          ]
        }
      ],
      "source": [
        "class ATK:\n",
        "  def __init__(self, nama, stok, harga_satuan):\n",
        "    self.nama = nama\n",
        "    self.stok = stok\n",
        "    self.harga_satuan = harga_satuan\n",
        "    self.harga_total = stok * harga_satuan\n",
        "\n",
        "  def set_nama(self, nama):\n",
        "    self.nama\n",
        "  def set_stok(self, stok):\n",
        "        self.stok = stok\n",
        "        self.harga_total = stok * self.harga_satuan\n",
        "\n",
        "  def set_harga_satuan(self, harga_satuan):\n",
        "        self.harga_satuan = harga_satuan\n",
        "        self.harga_total = self.stok * harga_satuan\n",
        "\n",
        "  def get_nama(self):\n",
        "        return self.nama\n",
        "\n",
        "  def get_stok(self):\n",
        "        return self.stok\n",
        "\n",
        "  def get_harga_satuan(self):\n",
        "        return self.harga_satuan\n",
        "\n",
        "  def get_harga_total(self):\n",
        "        return self.harga_total\n",
        "\n",
        "\n",
        "bolpoint = ATK(\"Bolpoint\", 10, 2000)\n",
        "pensil = ATK(\"Pensil\", 10, 1000)\n",
        "penghapus = ATK(\"Penghapus\", 10, 500)\n",
        "\n",
        "\n",
        "print(f\"{bolpoint.get_nama()} → Stok {bolpoint.get_stok()} → Harga Satuan {bolpoint.get_harga_satuan()} → Harga Total {bolpoint.get_harga_total()}\")\n",
        "print(f\"{pensil.get_nama()} → Stok {pensil.get_stok()} → Harga Satuan {pensil.get_harga_satuan()} → Harga Total {pensil.get_harga_total()}\")\n",
        "print(f\"{penghapus.get_nama()} → Stok {penghapus.get_stok()} → Harga Satuan {penghapus.get_harga_satuan()} → Harga Total {penghapus.get_harga_total()}\\n \")\n",
        "\n",
        "\n",
        "total_harga = bolpoint.get_harga_total() + pensil.get_harga_total() + penghapus.get_harga_total()\n",
        "print(f\"Total Harga Semua Alat Tulis → {total_harga}\")"
      ]
    },
    {
      "cell_type": "code",
      "source": [],
      "metadata": {
        "id": "pMHK9lFjgmlx"
      },
      "execution_count": null,
      "outputs": []
    }
  ]
}