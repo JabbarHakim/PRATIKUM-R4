{
  "nbformat": 4,
  "nbformat_minor": 0,
  "metadata": {
    "colab": {
      "provenance": []
    },
    "kernelspec": {
      "name": "python3",
      "display_name": "Python 3"
    },
    "language_info": {
      "name": "python"
    }
  },
  "cells": [
    {
      "cell_type": "code",
      "execution_count": null,
      "metadata": {
        "id": "ziF6TghiYeLU"
      },
      "outputs": [],
      "source": [
        "def l_lingkaran(n):\n",
        "    return 3.14 * n * n\n",
        "\n",
        "def l_persegi(n):\n",
        "    return n * n\n",
        "\n",
        "def l_segitiga(alas, tinggi):\n",
        "    return (alas * tinggi) / 2\n",
        "\n",
        "\n",
        "while True:\n",
        "    perhitungan = input('pilih salah satu perhitngan \\n1. luas lingkaran, \\n2. luas persegi, \\n3. luas segitiga, \\n4. selesai/enter untuk keluar:').lower()\n",
        "    if perhitungan == \"luas lingkaran\" or perhitungan == \"1\":\n",
        "        try:\n",
        "          jari_jari = int(input(\" masukkan panjang jari-jari: \"))\n",
        "          print(l_lingkaran(jari_jari))\n",
        "        except:\n",
        "          print(\"error\")\n",
        "    elif perhitungan == \"luas persegi\" or perhitungan == \"2\":\n",
        "        try:\n",
        "          sisi = int(input('masukkan panjang sisi: '))\n",
        "          print(l_persegi(sisi))\n",
        "        except:\n",
        "          print(\"error\")\n",
        "    elif perhitungan == \"luas segitiga\" or perhitungan == \"3\":\n",
        "        try:\n",
        "          alas = int(input('masukkan panjang alas: '))\n",
        "          tinggi = int(input('masukkan panjang tinggi: '))\n",
        "          print(l_segitiga(alas, tinggi))\n",
        "        except:\n",
        "          print(\"error\")\n",
        "    elif perhitungan == \"selesai\" or perhitungan == False or perhitungan == \"4\":\n",
        "        break\n",
        "    else:\n",
        "        print('pilih salah satu')"
      ]
    }
  ]
}