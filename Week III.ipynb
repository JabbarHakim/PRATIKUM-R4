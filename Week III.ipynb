{
  "nbformat": 4,
  "nbformat_minor": 0,
  "metadata": {
    "colab": {
      "provenance": []
    },
    "kernelspec": {
      "name": "python3",
      "display_name": "Python 3"
    },
    "language_info": {
      "name": "python"
    }
  },
  "cells": [
    {
      "cell_type": "code",
      "execution_count": null,
      "metadata": {
        "colab": {
          "base_uri": "https://localhost:8080/"
        },
        "id": "2K2EfTROE3sR",
        "outputId": "03e50bec-c6d5-4c1d-eec8-8e2d87b85f9a"
      },
      "outputs": [
        {
          "output_type": "stream",
          "name": "stdout",
          "text": [
            "Collecting wget\n",
            "  Downloading wget-3.2.zip (10 kB)\n",
            "  Preparing metadata (setup.py) ... \u001b[?25l\u001b[?25hdone\n",
            "Building wheels for collected packages: wget\n",
            "  Building wheel for wget (setup.py) ... \u001b[?25l\u001b[?25hdone\n",
            "  Created wheel for wget: filename=wget-3.2-py3-none-any.whl size=9656 sha256=7ad9875a946450a4bcf1b2e3e6068a0b5479847fee522aa30ef5bef4ffa7f2e4\n",
            "  Stored in directory: /root/.cache/pip/wheels/8b/f1/7f/5c94f0a7a505ca1c81cd1d9208ae2064675d97582078e6c769\n",
            "Successfully built wget\n",
            "Installing collected packages: wget\n",
            "Successfully installed wget-3.2\n"
          ]
        }
      ],
      "source": [
        "!pip install wget"
      ]
    },
    {
      "cell_type": "code",
      "source": [
        "!mkdir -p /resources/data"
      ],
      "metadata": {
        "id": "ju9py-v4E8o3"
      },
      "execution_count": null,
      "outputs": []
    },
    {
      "cell_type": "code",
      "source": [
        "!mkdir -p /resources/data\n",
        "!wget -O /resources/data/Example1.txt https://s3-api.us-geo.objectstorage.softlayer.net/cf-courses-data/CognitiveClass/PY0101EN/labs/example1.txt"
      ],
      "metadata": {
        "colab": {
          "base_uri": "https://localhost:8080/"
        },
        "id": "aQtPlbCQFHZO",
        "outputId": "e69ddafb-4554-413b-adb0-a797d7f8a997"
      },
      "execution_count": null,
      "outputs": [
        {
          "output_type": "stream",
          "name": "stdout",
          "text": [
            "--2024-09-06 06:45:59--  https://s3-api.us-geo.objectstorage.softlayer.net/cf-courses-data/CognitiveClass/PY0101EN/labs/example1.txt\n",
            "Resolving s3-api.us-geo.objectstorage.softlayer.net (s3-api.us-geo.objectstorage.softlayer.net)... 67.228.254.196\n",
            "Connecting to s3-api.us-geo.objectstorage.softlayer.net (s3-api.us-geo.objectstorage.softlayer.net)|67.228.254.196|:443... connected.\n",
            "HTTP request sent, awaiting response... 200 OK\n",
            "Length: 45 [text/plain]\n",
            "Saving to: ‘/resources/data/Example1.txt’\n",
            "\n",
            "/resources/data/Exa 100%[===================>]      45  --.-KB/s    in 0s      \n",
            "\n",
            "2024-09-06 06:45:59 (14.8 MB/s) - ‘/resources/data/Example1.txt’ saved [45/45]\n",
            "\n"
          ]
        }
      ]
    },
    {
      "cell_type": "code",
      "source": [
        "with open('WeekExerciseI.txt', 'w') as writefile:\n",
        "    writefile.write('Nama           : Jabbar Hakim\\n')\n",
        "    writefile.write('Program Studi  : Teknologi Informasi\\n')\n",
        "    writefile.write('NPM            : 2440506074\\n')\n",
        "    writefile.write('Alamat         : Dusun Kayu Ares, Banyuwangi, Bandongan, Magelang\\n')\n",
        "    writefile.write('Hobi           : Bermain Komputer dan Console Game\\n')\n",
        "    writefile.write('Email          : jabbarhakimm@gmail.com')"
      ],
      "metadata": {
        "id": "PK1WGrpMFVue"
      },
      "execution_count": null,
      "outputs": []
    },
    {
      "cell_type": "code",
      "source": [
        "!mkdir -p /resources/data"
      ],
      "metadata": {
        "id": "Anp1XWTsLId6"
      },
      "execution_count": null,
      "outputs": []
    },
    {
      "cell_type": "code",
      "source": [
        "with open(\"WeekExerciseI.txt\",\"r\") as Hakim:\n",
        "  c = Hakim.readlines()\n",
        "  print(c[0])\n",
        "  print(c[1])\n",
        "  print(c[5])\n",
        "\n"
      ],
      "metadata": {
        "colab": {
          "base_uri": "https://localhost:8080/"
        },
        "id": "mcyuvUIxRbbM",
        "outputId": "cc66648f-84d5-4a26-fb2b-37e285e03443"
      },
      "execution_count": null,
      "outputs": [
        {
          "output_type": "stream",
          "name": "stdout",
          "text": [
            "Nama           : Jabbar Hakim\n",
            "\n",
            "Program Studi  : Teknologi Informasi\n",
            "\n",
            "Email          : jabbarhakimm@gmail.com\n"
          ]
        }
      ]
    },
    {
      "cell_type": "code",
      "source": [
        "with open(\"WeekExercisePart2.txt\",'w') as ler:\n",
        "  ler.write(c[0])\n",
        "  ler.write(c[2])\n",
        "  ler.write(c[1])\n",
        "  ler.write(c[3])"
      ],
      "metadata": {
        "id": "CzKQMUzuUPyE"
      },
      "execution_count": null,
      "outputs": []
    },
    {
      "cell_type": "code",
      "source": [
        "with open(\"WeekExercisePart2.txt\",'r') as ler:\n",
        "  print(c[0])\n",
        "  print(c[2])\n",
        "  print(c[1])\n",
        "  print(c[3])"
      ],
      "metadata": {
        "colab": {
          "base_uri": "https://localhost:8080/"
        },
        "id": "DfqggT1YU2mt",
        "outputId": "11fcbfee-7c1d-4622-b053-27efd6a0d7df"
      },
      "execution_count": null,
      "outputs": [
        {
          "output_type": "stream",
          "name": "stdout",
          "text": [
            "Nama           : Jabbar Hakim\n",
            "\n",
            "NPM            : 2440506074\n",
            "\n",
            "Program Studi  : Teknologi Informasi\n",
            "\n",
            "Alamat         : Dusun Kayu Ares, Banyuwangi, Bandongan, Magelang\n",
            "\n"
          ]
        }
      ]
    },
    {
      "cell_type": "code",
      "source": [
        "with open('WeekExerciseI.txt','r' ) as testwritefile:\n",
        "    print(testwritefile.read())"
      ],
      "metadata": {
        "colab": {
          "base_uri": "https://localhost:8080/"
        },
        "id": "krrFADORLZvN",
        "outputId": "a47ec2dd-e8cd-4a8f-dfce-0af916a2b339"
      },
      "execution_count": null,
      "outputs": [
        {
          "output_type": "stream",
          "name": "stdout",
          "text": [
            "Nama           : Jabbar Hakim\n",
            "Program Studi  : Teknologi Informasi\n",
            "NPM            : 2440506074\n",
            "Alamat         : Dusun Kayu Ares, Banyuwangi, Bandongan, Magelang\n",
            "Hobi           : Bermain Komputer dan Console Game\n",
            "Email          : jabbarhakimm@gmail.com\n"
          ]
        }
      ]
    },
    {
      "cell_type": "code",
      "source": [
        "print (\"Selamat datang di Toko Maju Jaya\")\n",
        "print (\"Senin, 4 September 2023       13.05\")\n",
        "print(\" \")\n",
        "\n",
        "print(\"DAFTAR BELANJA:\")\n",
        "item1 = 'Sabun'\n",
        "item2 = 'Shampo'\n",
        "item3 = 'Mie instant'\n",
        "item4 = 'Detergen'\n",
        "harga1 = 10000\n",
        "harga2 = 15000\n",
        "harga3 = 5000\n",
        "harga4 = 17500\n",
        "\n",
        "total = harga1 + harga2 + harga3 + harga4\n",
        "\n",
        "print(item1,           \"= Rp\", harga1)\n",
        "print(item2,           \"= Rp\", harga2)\n",
        "print(item3,           \"= Rp\", harga3)\n",
        "print(item4,           \"= Rp\", harga4)\n",
        "\n",
        "print(\" \")\n",
        "print(\"Total = Rp \",total)\n",
        "\n",
        "with open('Kuitansi.txt', 'w') as writefile:\n",
        "        writefile.write(\"Selamat Datang di Toko Maju Jaya\\n\")\n",
        "        writefile.write(\" \\n\")\n",
        "        writefile.write(\"Kuitansi - 4 Septermber 2023\\n\")\n",
        "        writefile.write(\" \\n\")\n",
        "        writefile.write(item1+ \"= Rp\"+ str(harga1)+'\\n')\n",
        "        writefile.write(item2+ \"= Rp\"+ str(harga2)+'\\n')\n",
        "        writefile.write(item3+ \"= Rp\"+ str(harga3)+'\\n')\n",
        "        writefile.write(item4+ \"= Rp\"+ str(harga4)+\"\\n\")\n",
        "        writefile.write(\" \\n\")\n",
        "        writefile.write(\"Total Belanja =\"+ str(total))"
      ],
      "metadata": {
        "colab": {
          "base_uri": "https://localhost:8080/"
        },
        "id": "OuUq56MPMkxo",
        "outputId": "3489633b-0f24-47ad-f0de-434329a48883"
      },
      "execution_count": null,
      "outputs": [
        {
          "output_type": "stream",
          "name": "stdout",
          "text": [
            "Selamat datang di Toko Maju Jaya\n",
            "Senin, 4 September 2023       13.05\n",
            " \n",
            "DAFTAR BELANJA:\n",
            "Sabun = Rp 10000\n",
            "Shampo = Rp 15000\n",
            "Mie instant = Rp 5000\n",
            "Detergen = Rp 17500\n",
            " \n",
            "Total = Rp  47500\n"
          ]
        }
      ]
    },
    {
      "cell_type": "code",
      "source": [],
      "metadata": {
        "id": "xAxFKEZdNr3G"
      },
      "execution_count": null,
      "outputs": []
    }
  ]
}