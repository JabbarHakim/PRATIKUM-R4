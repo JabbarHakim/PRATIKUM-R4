{
  "nbformat": 4,
  "nbformat_minor": 0,
  "metadata": {
    "colab": {
      "provenance": []
    },
    "kernelspec": {
      "name": "python3",
      "display_name": "Python 3"
    },
    "language_info": {
      "name": "python"
    }
  },
  "cells": [
    {
      "cell_type": "code",
      "execution_count": null,
      "metadata": {
        "colab": {
          "base_uri": "https://localhost:8080/"
        },
        "id": "msZQM7ppACW0",
        "outputId": "99a5910f-28a6-46ee-ff70-deb7b206da63"
      },
      "outputs": [
        {
          "output_type": "execute_result",
          "data": {
            "text/plain": [
              "False"
            ]
          },
          "metadata": {},
          "execution_count": 1
        }
      ],
      "source": [
        "# Condition Equal\n",
        "\n",
        "a = 5\n",
        "a == 6"
      ]
    },
    {
      "cell_type": "code",
      "source": [
        "# Greater than sign\n",
        "\n",
        "i = 6\n",
        "i > 5"
      ],
      "metadata": {
        "colab": {
          "base_uri": "https://localhost:8080/"
        },
        "id": "AyxkASVpBYyE",
        "outputId": "090e80b3-640e-472a-ca8a-dd9e01ab5d91"
      },
      "execution_count": null,
      "outputs": [
        {
          "output_type": "execute_result",
          "data": {
            "text/plain": [
              "True"
            ]
          },
          "metadata": {},
          "execution_count": 9
        }
      ]
    },
    {
      "cell_type": "code",
      "source": [
        "i = 2\n",
        "i > 5"
      ],
      "metadata": {
        "colab": {
          "base_uri": "https://localhost:8080/"
        },
        "id": "Y_qFlAvvBela",
        "outputId": "8d018eea-cfa5-4d00-d5f4-0f822d263def"
      },
      "execution_count": null,
      "outputs": [
        {
          "output_type": "execute_result",
          "data": {
            "text/plain": [
              "False"
            ]
          },
          "metadata": {},
          "execution_count": 3
        }
      ]
    },
    {
      "cell_type": "code",
      "source": [
        "# Use Equality sign to compare the strings\n",
        "\n",
        "\"ACDC\" == \"Michael Jackson\""
      ],
      "metadata": {
        "colab": {
          "base_uri": "https://localhost:8080/"
        },
        "id": "TO3MitP8Blmp",
        "outputId": "5d60b0d5-3967-4681-ee63-cfaa8f78fac5"
      },
      "execution_count": null,
      "outputs": [
        {
          "output_type": "execute_result",
          "data": {
            "text/plain": [
              "False"
            ]
          },
          "metadata": {},
          "execution_count": 4
        }
      ]
    },
    {
      "cell_type": "code",
      "source": [
        "\"ACDC\" != \"Michael Jackson\""
      ],
      "metadata": {
        "colab": {
          "base_uri": "https://localhost:8080/"
        },
        "id": "5vhRAzd5Bu35",
        "outputId": "a70199a4-bc25-4920-a00e-a9801ebbd8f6"
      },
      "execution_count": null,
      "outputs": [
        {
          "output_type": "execute_result",
          "data": {
            "text/plain": [
              "True"
            ]
          },
          "metadata": {},
          "execution_count": 6
        }
      ]
    },
    {
      "cell_type": "code",
      "source": [
        "# Compare Characters\n",
        "\"B\" > \"A\""
      ],
      "metadata": {
        "colab": {
          "base_uri": "https://localhost:8080/"
        },
        "id": "WeG0G7x0ByvS",
        "outputId": "86603420-4e42-4ef9-c60e-031dd41c0920"
      },
      "execution_count": null,
      "outputs": [
        {
          "output_type": "execute_result",
          "data": {
            "text/plain": [
              "True"
            ]
          },
          "metadata": {},
          "execution_count": 8
        }
      ]
    },
    {
      "cell_type": "code",
      "source": [
        "\"BA\" > \"AB\""
      ],
      "metadata": {
        "colab": {
          "base_uri": "https://localhost:8080/"
        },
        "id": "ZavWdMo-B5vy",
        "outputId": "30eb9258-c299-4812-8f3f-35f16e84c5a8"
      },
      "execution_count": null,
      "outputs": [
        {
          "output_type": "execute_result",
          "data": {
            "text/plain": [
              "True"
            ]
          },
          "metadata": {},
          "execution_count": 10
        }
      ]
    },
    {
      "cell_type": "code",
      "source": [
        "\"ba\" >= \"ba\""
      ],
      "metadata": {
        "colab": {
          "base_uri": "https://localhost:8080/"
        },
        "id": "hoBR1sVwCANq",
        "outputId": "b78c3ad9-d80f-4162-fe72-d31fbe166340"
      },
      "execution_count": null,
      "outputs": [
        {
          "output_type": "execute_result",
          "data": {
            "text/plain": [
              "True"
            ]
          },
          "metadata": {},
          "execution_count": 11
        }
      ]
    },
    {
      "cell_type": "code",
      "source": [
        "# If statement example\n",
        "\n",
        "# Age = 19\n",
        "age = 18\n",
        "\n",
        "# Expression that can be true of false\n",
        "if age > 18:\n",
        "\n",
        "  # Within an indent, we have the expression that is run if the condition is true\n",
        "  print(\"You can enter\")\n",
        "\n",
        "# The statements after the if statement will run regadless if the condition is true or false\n",
        "print(\"Move on\")"
      ],
      "metadata": {
        "colab": {
          "base_uri": "https://localhost:8080/"
        },
        "id": "RDOBqYX_CCy6",
        "outputId": "8e57f6af-6104-4aaa-c83d-9ba5380a5930"
      },
      "execution_count": null,
      "outputs": [
        {
          "output_type": "stream",
          "name": "stdout",
          "text": [
            "Move on\n"
          ]
        }
      ]
    },
    {
      "cell_type": "code",
      "source": [
        "# Else Statement example\n",
        "\n",
        "# Age = 17\n",
        "age = 19\n",
        "\n",
        "if age > 18:\n",
        "  print(\"You can enter\")\n",
        "else:\n",
        "  print(\"Go see Meat Loaf\")\n",
        "  # Print (\" Move on\")\n",
        "\n",
        "print(\"Move on\")"
      ],
      "metadata": {
        "colab": {
          "base_uri": "https://localhost:8080/"
        },
        "id": "36RR6uHjCc4K",
        "outputId": "2c46e268-26c3-47c6-bbd5-03179f342d3c"
      },
      "execution_count": null,
      "outputs": [
        {
          "output_type": "stream",
          "name": "stdout",
          "text": [
            "You can enter\n",
            "Move on\n"
          ]
        }
      ]
    },
    {
      "cell_type": "code",
      "source": [
        "# Elif statement example\n",
        "\n",
        "age = 18\n",
        "\n",
        "if age > 18:\n",
        "  print(\"You can Enter\")\n",
        "elif age == 18:\n",
        "  print(\"Go see Pink Floyd\")\n",
        "else:\n",
        "  print(\"Go see Meat Loaf\")\n",
        "\n",
        "print(\"Move on\")"
      ],
      "metadata": {
        "colab": {
          "base_uri": "https://localhost:8080/"
        },
        "id": "MCgNpEcvCxYi",
        "outputId": "6fbfd1d6-4572-4b6e-8518-36d740e4baae"
      },
      "execution_count": null,
      "outputs": [
        {
          "output_type": "stream",
          "name": "stdout",
          "text": [
            "Go see Pink Floyd\n",
            "Move on\n"
          ]
        }
      ]
    },
    {
      "cell_type": "code",
      "source": [
        "# Condition statement example\n",
        "\n",
        "album_year = 1983\n",
        "# Album Year = 1970\n",
        "\n",
        "if album_year > 1980:\n",
        "  print(\"Album year is Greater than 1980\")\n",
        "\n",
        "print(\"Do Something...\")"
      ],
      "metadata": {
        "colab": {
          "base_uri": "https://localhost:8080/"
        },
        "id": "IbtckHFrDGla",
        "outputId": "be950563-6bbe-4c85-e201-cc9ec99f042e"
      },
      "execution_count": null,
      "outputs": [
        {
          "output_type": "stream",
          "name": "stdout",
          "text": [
            "Album year is Greater than 1980\n",
            "Do Something...\n"
          ]
        }
      ]
    },
    {
      "cell_type": "code",
      "source": [
        "# Condition statement example\n",
        "\n",
        "# Album Year = 1983\n",
        "album_year = 1970\n",
        "\n",
        "if album_year > 1980:\n",
        "  print(\"Album year is Greater than 1980\")\n",
        "else:\n",
        "  print(\"Less than 1980\")\n",
        "\n",
        "print(\"Do something....\")"
      ],
      "metadata": {
        "colab": {
          "base_uri": "https://localhost:8080/"
        },
        "id": "nuSp15mZDUMx",
        "outputId": "b316f5f8-2766-4e02-bf6d-67034ad7ef65"
      },
      "execution_count": null,
      "outputs": [
        {
          "output_type": "stream",
          "name": "stdout",
          "text": [
            "Less than 1980\n",
            "Do something....\n"
          ]
        }
      ]
    },
    {
      "cell_type": "code",
      "source": [
        "# Condition Statement Example\n",
        "\n",
        "album_year = 1980\n",
        "\n",
        "if(album_year > 1979) and (album_year < 1990):\n",
        "  print(\"Album year was in between 1980 and 1989\")\n",
        "\n",
        "print(\"\")\n",
        "print(\"Do Stuff.....\")"
      ],
      "metadata": {
        "colab": {
          "base_uri": "https://localhost:8080/"
        },
        "id": "uo7qlUkMDzOS",
        "outputId": "34e565bb-6b8a-41da-a08f-e7075d007c93"
      },
      "execution_count": null,
      "outputs": [
        {
          "output_type": "stream",
          "name": "stdout",
          "text": [
            "Album year was in between 1980 and 1989\n",
            "\n",
            "Do Stuff.....\n"
          ]
        }
      ]
    },
    {
      "cell_type": "code",
      "source": [
        "# COndition statement example\n",
        "\n",
        "album_year = 1978\n",
        "\n",
        "if(album_year < 1980) or (album_year > 1989):\n",
        "  print(\"Album was not made in the 1980's\")\n",
        "else:\n",
        "  print(\"The Album was made in the 1980's\")"
      ],
      "metadata": {
        "colab": {
          "base_uri": "https://localhost:8080/"
        },
        "id": "hGbz3KXJEFzq",
        "outputId": "e9b0441a-ca9c-4170-ab81-67d2506f0b50"
      },
      "execution_count": null,
      "outputs": [
        {
          "output_type": "stream",
          "name": "stdout",
          "text": [
            "Album was not made in the 1980's\n"
          ]
        }
      ]
    },
    {
      "cell_type": "code",
      "source": [
        "# Condition statement example\n",
        "\n",
        "album_year = 1984\n",
        "\n",
        "if not (album_year == \"1984\"):\n",
        "  print(\"Album year is not 1984\")"
      ],
      "metadata": {
        "colab": {
          "base_uri": "https://localhost:8080/"
        },
        "id": "DDh2i9fFEYPp",
        "outputId": "b13d780b-e139-4c6d-ac82-e9e0d71bf974"
      },
      "execution_count": null,
      "outputs": [
        {
          "output_type": "stream",
          "name": "stdout",
          "text": [
            "Album year is not 1984\n"
          ]
        }
      ]
    },
    {
      "cell_type": "markdown",
      "source": [
        "#   QUIZ ON CONDITION"
      ],
      "metadata": {
        "id": "F3x5c4nxEpcy"
      }
    },
    {
      "cell_type": "code",
      "source": [
        "# QUIZ\n",
        "\n",
        "album_BiB = 8.5\n",
        "\n",
        "if(album_BiB > 8) or (album_BiB < 8):\n",
        "  print(\"This Album is Amazing\")\n",
        "else:\n",
        "  print(\"This Album is ok\")"
      ],
      "metadata": {
        "colab": {
          "base_uri": "https://localhost:8080/"
        },
        "id": "FtamsgJvEi0S",
        "outputId": "9bf89ed8-9897-4c00-99a1-152f9b582da0"
      },
      "execution_count": null,
      "outputs": [
        {
          "output_type": "stream",
          "name": "stdout",
          "text": [
            "This Album is Amazing\n"
          ]
        }
      ]
    },
    {
      "cell_type": "code",
      "source": [
        "album = 1980\n",
        "\n",
        "if(album > 1991) or (album < 1993):\n",
        "  print(\"Year =\", album)"
      ],
      "metadata": {
        "colab": {
          "base_uri": "https://localhost:8080/"
        },
        "id": "5un6kZrnFH1O",
        "outputId": "b5d77bbb-5131-48aa-ba8d-8cbfa7744ad9"
      },
      "execution_count": null,
      "outputs": [
        {
          "output_type": "stream",
          "name": "stdout",
          "text": [
            "Year = 1980\n"
          ]
        }
      ]
    },
    {
      "cell_type": "code",
      "source": [],
      "metadata": {
        "id": "EQGMt4gAFuHy"
      },
      "execution_count": null,
      "outputs": []
    }
  ]
}