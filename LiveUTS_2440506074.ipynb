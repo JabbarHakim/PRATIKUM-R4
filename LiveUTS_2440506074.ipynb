{
  "nbformat": 4,
  "nbformat_minor": 0,
  "metadata": {
    "colab": {
      "provenance": []
    },
    "kernelspec": {
      "name": "python3",
      "display_name": "Python 3"
    },
    "language_info": {
      "name": "python"
    }
  },
  "cells": [
    {
      "cell_type": "markdown",
      "source": [
        "# UTS SOAL 1"
      ],
      "metadata": {
        "id": "Aspldv1MOB-V"
      }
    },
    {
      "cell_type": "code",
      "execution_count": null,
      "metadata": {
        "colab": {
          "base_uri": "https://localhost:8080/"
        },
        "id": "bXdzr6CnHKF3",
        "outputId": "72ecfc6f-03ee-42ad-8c3e-bf7669727bdf"
      },
      "outputs": [
        {
          "output_type": "stream",
          "name": "stdout",
          "text": [
            "Masukkan Nilai = 2440506074\n",
            "Total Genap adalah =  8\n",
            "Total Ganjil adalah =  2\n"
          ]
        }
      ],
      "source": [
        "numbers = input(\"Masukkan Nilai = \")\n",
        "\n",
        "genap = 0\n",
        "ganjil = 0\n",
        "\n",
        "for nilai in numbers:\n",
        "  if int(nilai) % 2 == 0:\n",
        "    genap += 1\n",
        "  else:\n",
        "    ganjil += 1\n",
        "\n",
        "print(\"Total Genap adalah = \", genap)\n",
        "print(\"Total Ganjil adalah = \", ganjil)"
      ]
    },
    {
      "cell_type": "code",
      "source": [],
      "metadata": {
        "id": "DdULUHiFP33H"
      },
      "execution_count": null,
      "outputs": []
    }
  ]
}