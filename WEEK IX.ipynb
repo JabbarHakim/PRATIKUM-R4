{
  "nbformat": 4,
  "nbformat_minor": 0,
  "metadata": {
    "colab": {
      "provenance": []
    },
    "kernelspec": {
      "name": "python3",
      "display_name": "Python 3"
    },
    "language_info": {
      "name": "python"
    }
  },
  "cells": [
    {
      "cell_type": "code",
      "execution_count": null,
      "metadata": {
        "colab": {
          "base_uri": "https://localhost:8080/"
        },
        "id": "ETcVdrVwPkR5",
        "outputId": "24bfff11-43c0-471e-ef15-5067d745dcee"
      },
      "outputs": [
        {
          "output_type": "stream",
          "name": "stdout",
          "text": [
            "Nama : Jabbar Hakim\n",
            "Kelas : Rombel 2 / Pratikum 4\n",
            "Tanggal Lahir :  10 November 2004\n",
            "No HP : 0895---------\n",
            "Alamat : Dusun Kayu Ares RT 02 / RW 10, Banyuwangi, Bandongan, Magelang, Jawa Tengah\n",
            "Hobi:\n",
            " - 1. Bermain Game\n",
            " - 2. Bermain Volly\n",
            " - 3. Nonton Anime\n"
          ]
        }
      ],
      "source": [
        "datamahasiswa = {\n",
        "    \"Nama\" : \"Jabbar Hakim\",\n",
        "    \"Kelas\" : \"Rombel 2 / Pratikum 4\",\n",
        "    \"Tanggal Lahir\" : \" 10 November 2004\",\n",
        "    \"No HP\" : \"0895---------\",\n",
        "    \"Alamat\" : \"Dusun Kayu Ares RT 02 / RW 10, Banyuwangi, Bandongan, Magelang, Jawa Tengah\",\n",
        "    \"Hobi\" : [\"1. Bermain Game\",\"2. Bermain Volly\",\"3. Nonton Anime\"],\n",
        "\n",
        "}\n",
        "\n",
        "\n",
        "for key, value in datamahasiswa.items():\n",
        "  if key == \"Hobi\":\n",
        "    print(f\"{key}:\")\n",
        "    for Hobi in value:\n",
        "      print(f\" - {Hobi}\")\n",
        "\n",
        "  else:\n",
        "    print(f\"{key} : {value}\")\n"
      ]
    },
    {
      "cell_type": "code",
      "source": [],
      "metadata": {
        "id": "svD5Lr5dSJ8z"
      },
      "execution_count": null,
      "outputs": []
    }
  ]
}