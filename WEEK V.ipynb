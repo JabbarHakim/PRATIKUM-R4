{
  "nbformat": 4,
  "nbformat_minor": 0,
  "metadata": {
    "colab": {
      "provenance": []
    },
    "kernelspec": {
      "name": "python3",
      "display_name": "Python 3"
    },
    "language_info": {
      "name": "python"
    }
  },
  "cells": [
    {
      "cell_type": "markdown",
      "source": [
        "# WEEK EXERCISE 1"
      ],
      "metadata": {
        "id": "PgiAxrCMDP-w"
      }
    },
    {
      "cell_type": "code",
      "source": [
        "Tahun = int(input(\"Masukkan Tahun = \"))\n",
        "\n",
        "if Tahun % 400 == 0:\n",
        "  print(Tahun, \"= Merupakan Tahun Kabisat karena terbagi 400\")\n",
        "elif Tahun % 100 == 0:\n",
        "  print(Tahun, \"= Merupakan Tahun Kabisat karena terbagi 100\")\n",
        "elif Tahun % 4 == 0:\n",
        "  print(Tahun, \"= Merupakan Tahun Kabisat karena terbagi 4\")\n",
        "else:\n",
        "  print(Tahun, \"= Bukan Merupakan Tahun Kabisat\")"
      ],
      "metadata": {
        "colab": {
          "base_uri": "https://localhost:8080/"
        },
        "id": "a54ykk2nEBqo",
        "outputId": "d63bd5bc-fb5d-466a-f4d7-956323db0788"
      },
      "execution_count": null,
      "outputs": [
        {
          "output_type": "stream",
          "name": "stdout",
          "text": [
            "Masukkan Tahun = 111\n",
            "111 = Bukan Merupakan Tahun Kabisat\n"
          ]
        }
      ]
    },
    {
      "cell_type": "markdown",
      "source": [
        "# WEEK EXERCISE 2"
      ],
      "metadata": {
        "id": "ElTxKR87FtrV"
      }
    },
    {
      "cell_type": "code",
      "source": [
        "Pertama = int(input(\"Masukkan Angka Pertama = \"))\n",
        "Kedua = int(input(\"Masukkan Angka Kedua = \"))\n",
        "Ketiga = int(input(\"Masukkan Angka Ketiga = \"))\n",
        "\n",
        "if Pertama >= Kedua and Pertama >= Ketiga:\n",
        "  print(\"Angka Pertama Terbesar\")\n",
        "\n",
        "elif Kedua >= Pertama and Kedua >= Ketiga:\n",
        "  print(\"Angka Kedua Terbesar\")\n",
        "\n",
        "else:\n",
        "  print(\"Angka Ketiga Terbesar\")\n",
        "\n"
      ],
      "metadata": {
        "colab": {
          "base_uri": "https://localhost:8080/"
        },
        "id": "pPYncyzAFYdQ",
        "outputId": "301b9a33-b38a-4825-d43f-ceb924dc0474"
      },
      "execution_count": null,
      "outputs": [
        {
          "output_type": "stream",
          "name": "stdout",
          "text": [
            "Masukkan Angka Pertama = 9\n",
            "Masukkan Angka Kedua = 7\n",
            "Masukkan Angka Ketiga = 5\n",
            "Angka Pertama Terbesar\n"
          ]
        }
      ]
    },
    {
      "cell_type": "markdown",
      "source": [
        "# WEEK EXERCISE 3"
      ],
      "metadata": {
        "id": "mcwbeUmDFsyO"
      }
    },
    {
      "cell_type": "code",
      "source": [
        "Konsumen = (input(\"Member atau NonMember = \"))\n",
        "Total = float(input(\"Total Belanja = \"))\n",
        "\n",
        "if Total >= 100000:\n",
        "  if Total >= 200000:\n",
        "      diskon = 0.04\n",
        "      print(\"Mendapatkan Diskon 0.04 atau 4 %\")\n",
        "\n",
        "  else:\n",
        "    diskon = 0.03\n",
        "    print(\"Mendapatkan Diskon 0.03 atau 3%\")\n",
        "\n",
        "if Konsumen == \"Member\":\n",
        "  diskon += 0.02\n",
        "  print(\"Mendapatkan Diskon Khusus Member = \",diskon)\n",
        "\n",
        "TotalSeluruh = Total * (1 - diskon)\n",
        "print(\"Total Yang Harus DiBayarkan = \",TotalSeluruh)"
      ],
      "metadata": {
        "colab": {
          "base_uri": "https://localhost:8080/"
        },
        "id": "VDxoH9WgIWK8",
        "outputId": "dca6432a-26ac-4970-dd16-f7d7e522a9da"
      },
      "execution_count": null,
      "outputs": [
        {
          "output_type": "stream",
          "name": "stdout",
          "text": [
            "Member atau NonMember = Member\n",
            "Total Belanja = 100000\n",
            "Mendapatkan Diskon 0.03 atau 3%\n",
            "Mendapatkan Diskon Khusus Member =  0.05\n",
            "Total Yang Harus DiBayarkan =  95000.0\n"
          ]
        }
      ]
    },
    {
      "cell_type": "code",
      "source": [
        "username = (input(\"Masukkan Username Anda = \"))\n",
        "email = (input(\"Masukkan Email Anda = \"))\n",
        "password = (input(\"Masukkan Password Anda = \"))\n",
        "\n",
        "if username ==\"\":\n",
        "  print(\"Username tidak boleh kosong!!\")\n",
        "elif \"@\" not in email:\n",
        "  print(\"Email Anda Kurang @\")\n",
        "elif len(password) < 8:\n",
        "  print(\"Password Anda kurang dari 8 karakter\")\n",
        "else:\n",
        "  print(\"Akun Berhasil dibuat\")"
      ],
      "metadata": {
        "colab": {
          "base_uri": "https://localhost:8080/"
        },
        "id": "n8qwVe77JLDc",
        "outputId": "75a4e94c-1dbf-4a3b-bdc0-82ea53a66b5c"
      },
      "execution_count": null,
      "outputs": [
        {
          "output_type": "stream",
          "name": "stdout",
          "text": [
            "Masukkan Username Anda = Starboi\n",
            "Masukkan Email Anda = Starboi@pajero.com\n",
            "Masukkan Password Anda = 12345678\n",
            "Akun Berhasil dibuat\n"
          ]
        }
      ]
    },
    {
      "cell_type": "code",
      "source": [],
      "metadata": {
        "id": "gI1OnhNdXzPb"
      },
      "execution_count": null,
      "outputs": []
    }
  ]
}