{
  "nbformat": 4,
  "nbformat_minor": 0,
  "metadata": {
    "colab": {
      "provenance": []
    },
    "kernelspec": {
      "name": "python3",
      "display_name": "Python 3"
    },
    "language_info": {
      "name": "python"
    }
  },
  "cells": [
    {
      "cell_type": "code",
      "execution_count": null,
      "metadata": {
        "id": "eBL6GDIVPhos",
        "colab": {
          "base_uri": "https://localhost:8080/"
        },
        "outputId": "0ff4f3dc-1344-41e4-9253-64fc4ed65e44"
      },
      "outputs": [
        {
          "output_type": "execute_result",
          "data": {
            "text/plain": [
              "2"
            ]
          },
          "metadata": {},
          "execution_count": 1
        }
      ],
      "source": [
        "def factorial(x):\n",
        "  if x == 1:\n",
        "    return 1\n",
        "  else:\n",
        "    return (x * factorial(x-1))\n",
        "\n",
        "factorial(2)"
      ]
    },
    {
      "cell_type": "code",
      "source": [
        "n = int(input(\"Masukkan Bilangan : \"))\n",
        "faktorial = lambda x:1 if x == 0 or x == 1 else x * faktorial(x-1)\n",
        "print(f\"{n}! = {faktorial(n)}\")"
      ],
      "metadata": {
        "colab": {
          "base_uri": "https://localhost:8080/"
        },
        "id": "RkEIw91VT7Bl",
        "outputId": "3bb6a696-92ce-476f-92d6-c18a50568743"
      },
      "execution_count": null,
      "outputs": [
        {
          "output_type": "stream",
          "name": "stdout",
          "text": [
            "Masukkan bilangan5\n",
            "5! = 120\n"
          ]
        }
      ]
    },
    {
      "cell_type": "code",
      "source": [
        "def factorial(x):\n",
        "  if x == 1:\n",
        "    return 1\n",
        "  else:\n",
        "    return (x * factorial(x-1))\n",
        "\n",
        "number = int(input(\"Masukkan Angka Factorial : \"))\n",
        "\n",
        "if number < 0:\n",
        "  print(\"Nilai Factorial\")\n",
        "else:\n",
        "  output = factorial(number)\n",
        "  print(f\"Factorial dari {number} adalah {output} \" )"
      ],
      "metadata": {
        "colab": {
          "base_uri": "https://localhost:8080/"
        },
        "id": "GXMxZgrKWha0",
        "outputId": "0122781f-bc47-40ac-acf0-5bd3ee071fb0"
      },
      "execution_count": null,
      "outputs": [
        {
          "output_type": "stream",
          "name": "stdout",
          "text": [
            "Masukkan Angka Factorial : 5\n",
            "Factorial dari 5 adalah 120 \n"
          ]
        }
      ]
    },
    {
      "cell_type": "code",
      "source": [
        "def luas_lingkaran():\n",
        "  phi = 3.14\n"
      ],
      "metadata": {
        "id": "b5G7tT2VW2_D"
      },
      "execution_count": null,
      "outputs": []
    },
    {
      "cell_type": "code",
      "source": [
        "while True:\n",
        "  print(\"Menu:\")\n",
        "  print(\"1. Luas Lingkaran\")\n",
        "  print(\"2. Luas Persegi\")\n",
        "  print(\"3. Luas Segitiga\")\n",
        "  print(\"4. Selesai\")\n",
        "\n",
        "  pilihan = input(\"Pilih Luas [ 1 2 3 4 ]: \")\n",
        "\n",
        "  if pilihan == '1' :\n",
        "    pi = 3.14\n",
        "    r = float(input(\"Masukkan Jari - Jari : \"))\n",
        "    luas = pi * r * r\n",
        "    print(f\"Luas Lingkaran = {luas}\")\n",
        "\n",
        "  elif pilihan == '2' :\n",
        "    s = float(input(\"Masukkan Sisi : \"))\n",
        "    luas = s * s\n",
        "    print(f\"Luas Persegi = {luas}\")\n",
        "\n",
        "  elif pilihan == '3' :\n",
        "    a = float(input(\"Masukkan Alas : \"))\n",
        "    t = float(input(\"Masukkan Tinggi : \"))\n",
        "    luas = 0.5 * a * t\n",
        "    print(f\"Luas Segitiga = {luas}\")\n",
        "\n",
        "  elif pilihan == '4' :\n",
        "    print(\"Program Selesai\")\n",
        "    break\n",
        "\n",
        "  else :\n",
        "    print(\"Pilihan Tidak Valid\")\n",
        "\n"
      ],
      "metadata": {
        "colab": {
          "base_uri": "https://localhost:8080/"
        },
        "id": "Ema3q86EZFaJ",
        "outputId": "a615ba95-c771-437a-a243-bd9813e4fd14"
      },
      "execution_count": null,
      "outputs": [
        {
          "output_type": "stream",
          "name": "stdout",
          "text": [
            "Menu:\n",
            "1. Luas Lingkaran\n",
            "2. Luas Persegi\n",
            "3. Luas Segitiga\n",
            "4. Selesai\n",
            "Pilih Luas [ 1 2 3 4 ]: 4\n",
            "Program Selesai\n"
          ]
        }
      ]
    },
    {
      "cell_type": "code",
      "source": [],
      "metadata": {
        "id": "FRakrhTzZG75"
      },
      "execution_count": null,
      "outputs": []
    }
  ]
}