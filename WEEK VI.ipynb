{
  "nbformat": 4,
  "nbformat_minor": 0,
  "metadata": {
    "colab": {
      "provenance": []
    },
    "kernelspec": {
      "name": "python3",
      "display_name": "Python 3"
    },
    "language_info": {
      "name": "python"
    }
  },
  "cells": [
    {
      "cell_type": "markdown",
      "source": [
        "# Weekly Exercise 1"
      ],
      "metadata": {
        "id": "v0ws_eCjKrNS"
      }
    },
    {
      "cell_type": "code",
      "execution_count": null,
      "metadata": {
        "colab": {
          "base_uri": "https://localhost:8080/"
        },
        "id": "GFl3n9LvFYbQ",
        "outputId": "5c79f075-e44e-44b1-fa7e-814e41ae3a8f"
      },
      "outputs": [
        {
          "output_type": "stream",
          "name": "stdout",
          "text": [
            "Masukkan Ukuran = 5\n",
            "    *\n",
            "   * *\n",
            "  * * *\n",
            " * * * *\n",
            "* * * * *\n"
          ]
        }
      ],
      "source": [
        "rows = int(input(\"Masukkan Ukuran = \"))\n",
        "\n",
        "for i in range(rows):\n",
        "     print(\" \" * (rows - i - 1), end='')\n",
        "\n",
        "     for j in range (i + 1):\n",
        "         print(\"*\",end='')\n",
        "\n",
        "         if j != i:\n",
        "             print(\" \", end='')\n",
        "     print()"
      ]
    },
    {
      "cell_type": "markdown",
      "source": [
        "# Weekly Exercise 2"
      ],
      "metadata": {
        "id": "XRPKtA9_KpEb"
      }
    },
    {
      "cell_type": "code",
      "source": [
        "rows = int(input(\"Masukkan Ukuran Segitiga Pascal = \"))\n",
        "\n",
        "for i in range(rows):\n",
        "     print(\" \" * (rows - i - 1), end='')\n",
        "     pascal = 1\n",
        "\n",
        "     for j in range (i + 1):\n",
        "         print(pascal ,end='')\n",
        "         pascal = pascal * (i - j) // (j + 1)\n",
        "\n",
        "         if j != i:\n",
        "          print(\" \", end='')\n",
        "\n",
        "     print()"
      ],
      "metadata": {
        "id": "i4ktw_39Fm6k",
        "colab": {
          "base_uri": "https://localhost:8080/"
        },
        "outputId": "823d2461-31f4-4504-c9e4-c071ef69f270"
      },
      "execution_count": null,
      "outputs": [
        {
          "output_type": "stream",
          "name": "stdout",
          "text": [
            "Masukkan Ukuran Segitiga Pascal = 3\n",
            "  1\n",
            " 1 1\n",
            "1 2 1\n"
          ]
        }
      ]
    },
    {
      "cell_type": "code",
      "source": [
        "variable = int(input(\"Masukkan Pascal = \"))\n",
        "\n",
        "rows = [1]\n",
        "\n",
        "for i in range(1, variable):\n",
        "  new_rows = [1]\n",
        "  for j in range(1, len(rows)):\n",
        "    new_numbers = rows[j - 1] + rows [j]\n",
        "    new_rows.append(new_numbers)\n",
        "  new_rows.append(1)\n",
        "  rows = new_rows\n",
        "\n",
        "print(\"\\nPascal = \",new_rows)\n",
        "\n",
        "print(\"\\nJumlah Total satu baris pada Pascal =\",sum(rows))\n"
      ],
      "metadata": {
        "colab": {
          "base_uri": "https://localhost:8080/"
        },
        "id": "Port8POjJZED",
        "outputId": "4a9479c9-c5cb-4bea-81b8-5e3214e15d10"
      },
      "execution_count": null,
      "outputs": [
        {
          "output_type": "stream",
          "name": "stdout",
          "text": [
            "Masukkan Pascal = 3\n",
            "\n",
            "Pascal =  [1, 2, 1]\n",
            "\n",
            "Jumlah Total satu baris pada Pascal = 4\n"
          ]
        }
      ]
    },
    {
      "cell_type": "code",
      "source": [
        "user = int(input(\"Masukkan angka: \"))\n",
        "\n",
        "for i in range(user):\n",
        "  row = []\n",
        "  for j in range(i + 1):\n",
        "    if j == 0 or j == i:\n",
        "      row.append(1)\n",
        "    else:\n",
        "      row.append(row[j-1] * (i-j+1) // j)\n",
        "print(row, 'jumlah baris: ',sum(row))"
      ],
      "metadata": {
        "colab": {
          "base_uri": "https://localhost:8080/"
        },
        "id": "1VIT4zm1L6jT",
        "outputId": "12a9b281-ebf5-4bcf-99c7-b94f60426e9b"
      },
      "execution_count": null,
      "outputs": [
        {
          "output_type": "stream",
          "name": "stdout",
          "text": [
            "Masukkan angka: 3\n",
            "[1, 2, 1] jumlah baris:  4\n"
          ]
        }
      ]
    },
    {
      "cell_type": "code",
      "source": [
        "def segitiga_pascals(n):\n",
        "    if n < 0:\n",
        "        return 0\n",
        "\n",
        "    # Buat list untuk menyimpan baris segitiga Pascal\n",
        "    pascal_row = [1] * (n + 1)\n",
        "\n",
        "    # Hitung nilai dalam baris segitiga Pascal\n",
        "    for i in range(2, n + 1):\n",
        "        for j in range(i - 1, 0, -1):\n",
        "            pascal_row[j] = pascal_row[j] + pascal_row[j - 1]\n",
        "\n",
        "    return sum(pascal_row)\n",
        "\n",
        "# Input dari pengguna\n",
        "try:\n",
        "    n = int(input(\"Masukkan angka: \"))\n",
        "    total = segitiga_pascals(n)\n",
        "    print(f\"Jumlah angka dalam satu baris segitiga Pascal untuk baris {n} adalah: {total}\")\n",
        "except ValueError:\n",
        "    print(\"Silakan masukkan angka bulat yang valid.\")"
      ],
      "metadata": {
        "colab": {
          "base_uri": "https://localhost:8080/"
        },
        "id": "AF-uhgEISSJP",
        "outputId": "e9221fdd-f096-442a-9abf-14533a5fc271"
      },
      "execution_count": null,
      "outputs": [
        {
          "output_type": "stream",
          "name": "stdout",
          "text": [
            "Masukkan angka: 4\n",
            "Jumlah angka dalam satu baris segitiga Pascal untuk baris 4 adalah: 16\n"
          ]
        }
      ]
    },
    {
      "cell_type": "code",
      "source": [],
      "metadata": {
        "id": "Pok2d9t3VZC3"
      },
      "execution_count": null,
      "outputs": []
    }
  ]
}